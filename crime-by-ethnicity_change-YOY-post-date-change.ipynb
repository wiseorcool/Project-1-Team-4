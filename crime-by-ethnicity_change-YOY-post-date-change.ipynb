{
 "cells": [
  {
   "cell_type": "code",
   "execution_count": 369,
   "metadata": {},
   "outputs": [],
   "source": [
    "import hvplot.pandas\n",
    "import pandas as pd\n",
    "import json\n",
    "import requests\n",
    "import matplotlib\n",
    "import numpy as np\n",
    "import matplotlib.pyplot as plt\n",
    "import seaborn as sns\n",
    "import matplotlib.ticker as mtick"
   ]
  },
  {
   "cell_type": "code",
   "execution_count": 370,
   "metadata": {},
   "outputs": [],
   "source": [
    "url = \"https://data.lacity.org/resource/2nrs-mtv8.json?\"\n",
    "limit = \"&$limit=1000000\"\n",
    "token = \"$$app_token=2chCzz50gH6DpOapebwdtsXcQ\"\n",
    "response = requests.get(url,limit).json()"
   ]
  },
  {
   "cell_type": "code",
   "execution_count": 371,
   "metadata": {},
   "outputs": [],
   "source": [
    "response_df = pd.DataFrame(response)"
   ]
  },
  {
   "cell_type": "code",
   "execution_count": 372,
   "metadata": {},
   "outputs": [],
   "source": [
    "response_df_formatted = response_df.copy()\n",
    "response_df_formatted[\"lat\"]=response_df_formatted[\"lat\"].astype(float)\n",
    "response_df_formatted[\"lon\"]=response_df_formatted[\"lon\"].astype(float)\n",
    "response_df_formatted=response_df_formatted.loc[(response_df_formatted[\"lon\"] != 0) & (response_df_formatted[\"lat\"] != 0)]"
   ]
  },
  {
   "cell_type": "code",
   "execution_count": 373,
   "metadata": {},
   "outputs": [
    {
     "data": {
      "text/plain": [
       "Index(['dr_no', 'date_rptd', 'date_occ', 'time_occ', 'area', 'area_name',\n",
       "       'rpt_dist_no', 'part_1_2', 'crm_cd', 'crm_cd_desc', 'vict_age',\n",
       "       'vict_sex', 'vict_descent', 'premis_cd', 'premis_desc', 'status',\n",
       "       'status_desc', 'crm_cd_1', 'crm_cd_2', 'location', 'lat', 'lon',\n",
       "       'mocodes', 'weapon_used_cd', 'weapon_desc', 'cross_street', 'crm_cd_3',\n",
       "       'crm_cd_4'],\n",
       "      dtype='object')"
      ]
     },
     "execution_count": 373,
     "metadata": {},
     "output_type": "execute_result"
    }
   ],
   "source": [
    "response_df_formatted.columns"
   ]
  },
  {
   "cell_type": "code",
   "execution_count": 374,
   "metadata": {},
   "outputs": [
    {
     "data": {
      "text/html": [
       "<div>\n",
       "<style scoped>\n",
       "    .dataframe tbody tr th:only-of-type {\n",
       "        vertical-align: middle;\n",
       "    }\n",
       "\n",
       "    .dataframe tbody tr th {\n",
       "        vertical-align: top;\n",
       "    }\n",
       "\n",
       "    .dataframe thead th {\n",
       "        text-align: right;\n",
       "    }\n",
       "</style>\n",
       "<table border=\"1\" class=\"dataframe\">\n",
       "  <thead>\n",
       "    <tr style=\"text-align: right;\">\n",
       "      <th></th>\n",
       "      <th>dr_no</th>\n",
       "      <th>date_rptd</th>\n",
       "      <th>date_occ</th>\n",
       "      <th>time_occ</th>\n",
       "      <th>area</th>\n",
       "      <th>area_name</th>\n",
       "      <th>rpt_dist_no</th>\n",
       "      <th>part_1_2</th>\n",
       "      <th>crm_cd</th>\n",
       "      <th>crm_cd_desc</th>\n",
       "      <th>...</th>\n",
       "      <th>location</th>\n",
       "      <th>lat</th>\n",
       "      <th>lon</th>\n",
       "      <th>mocodes</th>\n",
       "      <th>weapon_used_cd</th>\n",
       "      <th>weapon_desc</th>\n",
       "      <th>cross_street</th>\n",
       "      <th>crm_cd_3</th>\n",
       "      <th>crm_cd_4</th>\n",
       "      <th>Year</th>\n",
       "    </tr>\n",
       "  </thead>\n",
       "  <tbody>\n",
       "    <tr>\n",
       "      <th>0</th>\n",
       "      <td>190326475</td>\n",
       "      <td>2020-03-01T00:00:00.000</td>\n",
       "      <td>2020-03-01T00:00:00.000</td>\n",
       "      <td>2130</td>\n",
       "      <td>07</td>\n",
       "      <td>Wilshire</td>\n",
       "      <td>0784</td>\n",
       "      <td>1</td>\n",
       "      <td>510</td>\n",
       "      <td>VEHICLE - STOLEN</td>\n",
       "      <td>...</td>\n",
       "      <td>1900 S  LONGWOOD                     AV</td>\n",
       "      <td>34.0375</td>\n",
       "      <td>-118.3506</td>\n",
       "      <td>NaN</td>\n",
       "      <td>NaN</td>\n",
       "      <td>NaN</td>\n",
       "      <td>NaN</td>\n",
       "      <td>NaN</td>\n",
       "      <td>NaN</td>\n",
       "      <td>2020</td>\n",
       "    </tr>\n",
       "    <tr>\n",
       "      <th>1</th>\n",
       "      <td>200106753</td>\n",
       "      <td>2020-02-09T00:00:00.000</td>\n",
       "      <td>2020-02-08T00:00:00.000</td>\n",
       "      <td>1800</td>\n",
       "      <td>01</td>\n",
       "      <td>Central</td>\n",
       "      <td>0182</td>\n",
       "      <td>1</td>\n",
       "      <td>330</td>\n",
       "      <td>BURGLARY FROM VEHICLE</td>\n",
       "      <td>...</td>\n",
       "      <td>1000 S  FLOWER                       ST</td>\n",
       "      <td>34.0444</td>\n",
       "      <td>-118.2628</td>\n",
       "      <td>1822 1402 0344</td>\n",
       "      <td>NaN</td>\n",
       "      <td>NaN</td>\n",
       "      <td>NaN</td>\n",
       "      <td>NaN</td>\n",
       "      <td>NaN</td>\n",
       "      <td>2020</td>\n",
       "    </tr>\n",
       "    <tr>\n",
       "      <th>2</th>\n",
       "      <td>200320258</td>\n",
       "      <td>2020-11-11T00:00:00.000</td>\n",
       "      <td>2020-11-04T00:00:00.000</td>\n",
       "      <td>1700</td>\n",
       "      <td>03</td>\n",
       "      <td>Southwest</td>\n",
       "      <td>0356</td>\n",
       "      <td>1</td>\n",
       "      <td>480</td>\n",
       "      <td>BIKE - STOLEN</td>\n",
       "      <td>...</td>\n",
       "      <td>1400 W  37TH                         ST</td>\n",
       "      <td>34.0210</td>\n",
       "      <td>-118.3002</td>\n",
       "      <td>0344 1251</td>\n",
       "      <td>NaN</td>\n",
       "      <td>NaN</td>\n",
       "      <td>NaN</td>\n",
       "      <td>NaN</td>\n",
       "      <td>NaN</td>\n",
       "      <td>2020</td>\n",
       "    </tr>\n",
       "    <tr>\n",
       "      <th>3</th>\n",
       "      <td>200907217</td>\n",
       "      <td>2023-05-10T00:00:00.000</td>\n",
       "      <td>2020-03-10T00:00:00.000</td>\n",
       "      <td>2037</td>\n",
       "      <td>09</td>\n",
       "      <td>Van Nuys</td>\n",
       "      <td>0964</td>\n",
       "      <td>1</td>\n",
       "      <td>343</td>\n",
       "      <td>SHOPLIFTING-GRAND THEFT ($950.01 &amp; OVER)</td>\n",
       "      <td>...</td>\n",
       "      <td>14000    RIVERSIDE                    DR</td>\n",
       "      <td>34.1576</td>\n",
       "      <td>-118.4387</td>\n",
       "      <td>0325 1501</td>\n",
       "      <td>NaN</td>\n",
       "      <td>NaN</td>\n",
       "      <td>NaN</td>\n",
       "      <td>NaN</td>\n",
       "      <td>NaN</td>\n",
       "      <td>2020</td>\n",
       "    </tr>\n",
       "    <tr>\n",
       "      <th>4</th>\n",
       "      <td>220614831</td>\n",
       "      <td>2022-08-18T00:00:00.000</td>\n",
       "      <td>2020-08-17T00:00:00.000</td>\n",
       "      <td>1200</td>\n",
       "      <td>06</td>\n",
       "      <td>Hollywood</td>\n",
       "      <td>0666</td>\n",
       "      <td>2</td>\n",
       "      <td>354</td>\n",
       "      <td>THEFT OF IDENTITY</td>\n",
       "      <td>...</td>\n",
       "      <td>1900    TRANSIENT</td>\n",
       "      <td>34.0944</td>\n",
       "      <td>-118.3277</td>\n",
       "      <td>1822 1501 0930 2004</td>\n",
       "      <td>NaN</td>\n",
       "      <td>NaN</td>\n",
       "      <td>NaN</td>\n",
       "      <td>NaN</td>\n",
       "      <td>NaN</td>\n",
       "      <td>2020</td>\n",
       "    </tr>\n",
       "  </tbody>\n",
       "</table>\n",
       "<p>5 rows × 29 columns</p>\n",
       "</div>"
      ],
      "text/plain": [
       "       dr_no                date_rptd                 date_occ time_occ area  \\\n",
       "0  190326475  2020-03-01T00:00:00.000  2020-03-01T00:00:00.000     2130   07   \n",
       "1  200106753  2020-02-09T00:00:00.000  2020-02-08T00:00:00.000     1800   01   \n",
       "2  200320258  2020-11-11T00:00:00.000  2020-11-04T00:00:00.000     1700   03   \n",
       "3  200907217  2023-05-10T00:00:00.000  2020-03-10T00:00:00.000     2037   09   \n",
       "4  220614831  2022-08-18T00:00:00.000  2020-08-17T00:00:00.000     1200   06   \n",
       "\n",
       "   area_name rpt_dist_no part_1_2 crm_cd  \\\n",
       "0   Wilshire        0784        1    510   \n",
       "1    Central        0182        1    330   \n",
       "2  Southwest        0356        1    480   \n",
       "3   Van Nuys        0964        1    343   \n",
       "4  Hollywood        0666        2    354   \n",
       "\n",
       "                                crm_cd_desc  ...  \\\n",
       "0                          VEHICLE - STOLEN  ...   \n",
       "1                     BURGLARY FROM VEHICLE  ...   \n",
       "2                             BIKE - STOLEN  ...   \n",
       "3  SHOPLIFTING-GRAND THEFT ($950.01 & OVER)  ...   \n",
       "4                         THEFT OF IDENTITY  ...   \n",
       "\n",
       "                                   location      lat       lon  \\\n",
       "0   1900 S  LONGWOOD                     AV  34.0375 -118.3506   \n",
       "1   1000 S  FLOWER                       ST  34.0444 -118.2628   \n",
       "2   1400 W  37TH                         ST  34.0210 -118.3002   \n",
       "3  14000    RIVERSIDE                    DR  34.1576 -118.4387   \n",
       "4                         1900    TRANSIENT  34.0944 -118.3277   \n",
       "\n",
       "               mocodes weapon_used_cd weapon_desc cross_street crm_cd_3  \\\n",
       "0                  NaN            NaN         NaN          NaN      NaN   \n",
       "1       1822 1402 0344            NaN         NaN          NaN      NaN   \n",
       "2            0344 1251            NaN         NaN          NaN      NaN   \n",
       "3            0325 1501            NaN         NaN          NaN      NaN   \n",
       "4  1822 1501 0930 2004            NaN         NaN          NaN      NaN   \n",
       "\n",
       "  crm_cd_4  Year  \n",
       "0      NaN  2020  \n",
       "1      NaN  2020  \n",
       "2      NaN  2020  \n",
       "3      NaN  2020  \n",
       "4      NaN  2020  \n",
       "\n",
       "[5 rows x 29 columns]"
      ]
     },
     "execution_count": 374,
     "metadata": {},
     "output_type": "execute_result"
    }
   ],
   "source": [
    "response_df_formatted['Year'] = pd.to_datetime(response_df_formatted['date_occ']).dt.strftime('%Y')\n",
    "response_df_formatted.head()"
   ]
  },
  {
   "cell_type": "code",
   "execution_count": 375,
   "metadata": {},
   "outputs": [
    {
     "data": {
      "text/html": [
       "<div>\n",
       "<style scoped>\n",
       "    .dataframe tbody tr th:only-of-type {\n",
       "        vertical-align: middle;\n",
       "    }\n",
       "\n",
       "    .dataframe tbody tr th {\n",
       "        vertical-align: top;\n",
       "    }\n",
       "\n",
       "    .dataframe thead th {\n",
       "        text-align: right;\n",
       "    }\n",
       "</style>\n",
       "<table border=\"1\" class=\"dataframe\">\n",
       "  <thead>\n",
       "    <tr style=\"text-align: right;\">\n",
       "      <th></th>\n",
       "      <th>dr_no</th>\n",
       "      <th>date_rptd</th>\n",
       "      <th>date_occ</th>\n",
       "      <th>time_occ</th>\n",
       "      <th>area</th>\n",
       "      <th>area_name</th>\n",
       "      <th>rpt_dist_no</th>\n",
       "      <th>part_1_2</th>\n",
       "      <th>crm_cd</th>\n",
       "      <th>crm_cd_desc</th>\n",
       "      <th>...</th>\n",
       "      <th>location</th>\n",
       "      <th>lat</th>\n",
       "      <th>lon</th>\n",
       "      <th>mocodes</th>\n",
       "      <th>weapon_used_cd</th>\n",
       "      <th>weapon_desc</th>\n",
       "      <th>cross_street</th>\n",
       "      <th>crm_cd_3</th>\n",
       "      <th>crm_cd_4</th>\n",
       "      <th>Year</th>\n",
       "    </tr>\n",
       "  </thead>\n",
       "  <tbody>\n",
       "    <tr>\n",
       "      <th>0</th>\n",
       "      <td>190326475</td>\n",
       "      <td>2020-03-01T00:00:00.000</td>\n",
       "      <td>2020-03-01T00:00:00.000</td>\n",
       "      <td>2130</td>\n",
       "      <td>07</td>\n",
       "      <td>Wilshire</td>\n",
       "      <td>0784</td>\n",
       "      <td>1</td>\n",
       "      <td>510</td>\n",
       "      <td>VEHICLE - STOLEN</td>\n",
       "      <td>...</td>\n",
       "      <td>1900 S  LONGWOOD                     AV</td>\n",
       "      <td>34.0375</td>\n",
       "      <td>-118.3506</td>\n",
       "      <td>NaN</td>\n",
       "      <td>NaN</td>\n",
       "      <td>NaN</td>\n",
       "      <td>NaN</td>\n",
       "      <td>NaN</td>\n",
       "      <td>NaN</td>\n",
       "      <td>2020</td>\n",
       "    </tr>\n",
       "    <tr>\n",
       "      <th>1</th>\n",
       "      <td>200106753</td>\n",
       "      <td>2020-02-09T00:00:00.000</td>\n",
       "      <td>2020-02-08T00:00:00.000</td>\n",
       "      <td>1800</td>\n",
       "      <td>01</td>\n",
       "      <td>Central</td>\n",
       "      <td>0182</td>\n",
       "      <td>1</td>\n",
       "      <td>330</td>\n",
       "      <td>BURGLARY FROM VEHICLE</td>\n",
       "      <td>...</td>\n",
       "      <td>1000 S  FLOWER                       ST</td>\n",
       "      <td>34.0444</td>\n",
       "      <td>-118.2628</td>\n",
       "      <td>1822 1402 0344</td>\n",
       "      <td>NaN</td>\n",
       "      <td>NaN</td>\n",
       "      <td>NaN</td>\n",
       "      <td>NaN</td>\n",
       "      <td>NaN</td>\n",
       "      <td>2020</td>\n",
       "    </tr>\n",
       "    <tr>\n",
       "      <th>2</th>\n",
       "      <td>200320258</td>\n",
       "      <td>2020-11-11T00:00:00.000</td>\n",
       "      <td>2020-11-04T00:00:00.000</td>\n",
       "      <td>1700</td>\n",
       "      <td>03</td>\n",
       "      <td>Southwest</td>\n",
       "      <td>0356</td>\n",
       "      <td>1</td>\n",
       "      <td>480</td>\n",
       "      <td>BIKE - STOLEN</td>\n",
       "      <td>...</td>\n",
       "      <td>1400 W  37TH                         ST</td>\n",
       "      <td>34.0210</td>\n",
       "      <td>-118.3002</td>\n",
       "      <td>0344 1251</td>\n",
       "      <td>NaN</td>\n",
       "      <td>NaN</td>\n",
       "      <td>NaN</td>\n",
       "      <td>NaN</td>\n",
       "      <td>NaN</td>\n",
       "      <td>2020</td>\n",
       "    </tr>\n",
       "    <tr>\n",
       "      <th>3</th>\n",
       "      <td>200907217</td>\n",
       "      <td>2023-05-10T00:00:00.000</td>\n",
       "      <td>2020-03-10T00:00:00.000</td>\n",
       "      <td>2037</td>\n",
       "      <td>09</td>\n",
       "      <td>Van Nuys</td>\n",
       "      <td>0964</td>\n",
       "      <td>1</td>\n",
       "      <td>343</td>\n",
       "      <td>SHOPLIFTING-GRAND THEFT ($950.01 &amp; OVER)</td>\n",
       "      <td>...</td>\n",
       "      <td>14000    RIVERSIDE                    DR</td>\n",
       "      <td>34.1576</td>\n",
       "      <td>-118.4387</td>\n",
       "      <td>0325 1501</td>\n",
       "      <td>NaN</td>\n",
       "      <td>NaN</td>\n",
       "      <td>NaN</td>\n",
       "      <td>NaN</td>\n",
       "      <td>NaN</td>\n",
       "      <td>2020</td>\n",
       "    </tr>\n",
       "    <tr>\n",
       "      <th>4</th>\n",
       "      <td>220614831</td>\n",
       "      <td>2022-08-18T00:00:00.000</td>\n",
       "      <td>2020-08-17T00:00:00.000</td>\n",
       "      <td>1200</td>\n",
       "      <td>06</td>\n",
       "      <td>Hollywood</td>\n",
       "      <td>0666</td>\n",
       "      <td>2</td>\n",
       "      <td>354</td>\n",
       "      <td>THEFT OF IDENTITY</td>\n",
       "      <td>...</td>\n",
       "      <td>1900    TRANSIENT</td>\n",
       "      <td>34.0944</td>\n",
       "      <td>-118.3277</td>\n",
       "      <td>1822 1501 0930 2004</td>\n",
       "      <td>NaN</td>\n",
       "      <td>NaN</td>\n",
       "      <td>NaN</td>\n",
       "      <td>NaN</td>\n",
       "      <td>NaN</td>\n",
       "      <td>2020</td>\n",
       "    </tr>\n",
       "  </tbody>\n",
       "</table>\n",
       "<p>5 rows × 29 columns</p>\n",
       "</div>"
      ],
      "text/plain": [
       "       dr_no                date_rptd                 date_occ time_occ area  \\\n",
       "0  190326475  2020-03-01T00:00:00.000  2020-03-01T00:00:00.000     2130   07   \n",
       "1  200106753  2020-02-09T00:00:00.000  2020-02-08T00:00:00.000     1800   01   \n",
       "2  200320258  2020-11-11T00:00:00.000  2020-11-04T00:00:00.000     1700   03   \n",
       "3  200907217  2023-05-10T00:00:00.000  2020-03-10T00:00:00.000     2037   09   \n",
       "4  220614831  2022-08-18T00:00:00.000  2020-08-17T00:00:00.000     1200   06   \n",
       "\n",
       "   area_name rpt_dist_no part_1_2 crm_cd  \\\n",
       "0   Wilshire        0784        1    510   \n",
       "1    Central        0182        1    330   \n",
       "2  Southwest        0356        1    480   \n",
       "3   Van Nuys        0964        1    343   \n",
       "4  Hollywood        0666        2    354   \n",
       "\n",
       "                                crm_cd_desc  ...  \\\n",
       "0                          VEHICLE - STOLEN  ...   \n",
       "1                     BURGLARY FROM VEHICLE  ...   \n",
       "2                             BIKE - STOLEN  ...   \n",
       "3  SHOPLIFTING-GRAND THEFT ($950.01 & OVER)  ...   \n",
       "4                         THEFT OF IDENTITY  ...   \n",
       "\n",
       "                                   location      lat       lon  \\\n",
       "0   1900 S  LONGWOOD                     AV  34.0375 -118.3506   \n",
       "1   1000 S  FLOWER                       ST  34.0444 -118.2628   \n",
       "2   1400 W  37TH                         ST  34.0210 -118.3002   \n",
       "3  14000    RIVERSIDE                    DR  34.1576 -118.4387   \n",
       "4                         1900    TRANSIENT  34.0944 -118.3277   \n",
       "\n",
       "               mocodes weapon_used_cd weapon_desc cross_street crm_cd_3  \\\n",
       "0                  NaN            NaN         NaN          NaN      NaN   \n",
       "1       1822 1402 0344            NaN         NaN          NaN      NaN   \n",
       "2            0344 1251            NaN         NaN          NaN      NaN   \n",
       "3            0325 1501            NaN         NaN          NaN      NaN   \n",
       "4  1822 1501 0930 2004            NaN         NaN          NaN      NaN   \n",
       "\n",
       "  crm_cd_4  Year  \n",
       "0      NaN  2020  \n",
       "1      NaN  2020  \n",
       "2      NaN  2020  \n",
       "3      NaN  2020  \n",
       "4      NaN  2020  \n",
       "\n",
       "[5 rows x 29 columns]"
      ]
     },
     "execution_count": 375,
     "metadata": {},
     "output_type": "execute_result"
    }
   ],
   "source": [
    "clean = response_df_formatted.dropna(subset=[\"date_occ\", \"area_name\", \"lat\", \"lon\"])\n",
    "clean.head()"
   ]
  },
  {
   "cell_type": "code",
   "execution_count": 376,
   "metadata": {},
   "outputs": [
    {
     "name": "stderr",
     "output_type": "stream",
     "text": [
      "C:\\Users\\PC\\AppData\\Local\\Temp\\ipykernel_824\\4140397869.py:5: SettingWithCopyWarning: \n",
      "A value is trying to be set on a copy of a slice from a DataFrame.\n",
      "Try using .loc[row_indexer,col_indexer] = value instead\n",
      "\n",
      "See the caveats in the documentation: https://pandas.pydata.org/pandas-docs/stable/user_guide/indexing.html#returning-a-view-versus-a-copy\n",
      "  clean_2021[\"Year\"] = \"2020\"\n",
      "C:\\Users\\PC\\AppData\\Local\\Temp\\ipykernel_824\\4140397869.py:6: SettingWithCopyWarning: \n",
      "A value is trying to be set on a copy of a slice from a DataFrame.\n",
      "Try using .loc[row_indexer,col_indexer] = value instead\n",
      "\n",
      "See the caveats in the documentation: https://pandas.pydata.org/pandas-docs/stable/user_guide/indexing.html#returning-a-view-versus-a-copy\n",
      "  clean_2122[\"Year\"] = \"2021\"\n",
      "C:\\Users\\PC\\AppData\\Local\\Temp\\ipykernel_824\\4140397869.py:7: SettingWithCopyWarning: \n",
      "A value is trying to be set on a copy of a slice from a DataFrame.\n",
      "Try using .loc[row_indexer,col_indexer] = value instead\n",
      "\n",
      "See the caveats in the documentation: https://pandas.pydata.org/pandas-docs/stable/user_guide/indexing.html#returning-a-view-versus-a-copy\n",
      "  clean_2223[\"Year\"] = \"2022\"\n",
      "C:\\Users\\PC\\AppData\\Local\\Temp\\ipykernel_824\\4140397869.py:8: SettingWithCopyWarning: \n",
      "A value is trying to be set on a copy of a slice from a DataFrame.\n",
      "Try using .loc[row_indexer,col_indexer] = value instead\n",
      "\n",
      "See the caveats in the documentation: https://pandas.pydata.org/pandas-docs/stable/user_guide/indexing.html#returning-a-view-versus-a-copy\n",
      "  clean_2324[\"Year\"] = \"2023\"\n"
     ]
    }
   ],
   "source": [
    "clean_2021 = clean.loc[(clean[\"date_occ\"] >= \"2020-03-01\") & (clean[\"date_occ\"] < \"2021-03-01\")]\n",
    "clean_2122 = clean.loc[(clean[\"date_occ\"] >= \"2021-03-01\") & (clean[\"date_occ\"] < \"2022-03-01\")]\n",
    "clean_2223 = clean.loc[(clean[\"date_occ\"] >= \"2022-03-01\") & (clean[\"date_occ\"] < \"2023-03-01\")]\n",
    "clean_2324 = clean.loc[(clean[\"date_occ\"] >= \"2023-03-01\") & (clean[\"date_occ\"] < \"2024-03-01\")]\n",
    "clean_2021[\"Year\"] = \"2020\"\n",
    "clean_2122[\"Year\"] = \"2021\"\n",
    "clean_2223[\"Year\"] = \"2022\"\n",
    "clean_2324[\"Year\"] = \"2023\""
   ]
  },
  {
   "cell_type": "code",
   "execution_count": 377,
   "metadata": {},
   "outputs": [],
   "source": [
    "combodata = pd.concat([clean_2021, clean_2122, clean_2223, clean_2324], ignore_index=False, axis=0)"
   ]
  },
  {
   "cell_type": "code",
   "execution_count": 378,
   "metadata": {},
   "outputs": [
    {
     "data": {
      "text/html": [
       "<div>\n",
       "<style scoped>\n",
       "    .dataframe tbody tr th:only-of-type {\n",
       "        vertical-align: middle;\n",
       "    }\n",
       "\n",
       "    .dataframe tbody tr th {\n",
       "        vertical-align: top;\n",
       "    }\n",
       "\n",
       "    .dataframe thead th {\n",
       "        text-align: right;\n",
       "    }\n",
       "</style>\n",
       "<table border=\"1\" class=\"dataframe\">\n",
       "  <thead>\n",
       "    <tr style=\"text-align: right;\">\n",
       "      <th></th>\n",
       "      <th>dr_no</th>\n",
       "      <th>date_rptd</th>\n",
       "      <th>date_occ</th>\n",
       "      <th>time_occ</th>\n",
       "      <th>area</th>\n",
       "      <th>area_name</th>\n",
       "      <th>rpt_dist_no</th>\n",
       "      <th>part_1_2</th>\n",
       "      <th>crm_cd</th>\n",
       "      <th>crm_cd_desc</th>\n",
       "      <th>...</th>\n",
       "      <th>location</th>\n",
       "      <th>lat</th>\n",
       "      <th>lon</th>\n",
       "      <th>mocodes</th>\n",
       "      <th>weapon_used_cd</th>\n",
       "      <th>weapon_desc</th>\n",
       "      <th>cross_street</th>\n",
       "      <th>crm_cd_3</th>\n",
       "      <th>crm_cd_4</th>\n",
       "      <th>Year</th>\n",
       "    </tr>\n",
       "  </thead>\n",
       "  <tbody>\n",
       "    <tr>\n",
       "      <th>0</th>\n",
       "      <td>190326475</td>\n",
       "      <td>2020-03-01T00:00:00.000</td>\n",
       "      <td>2020-03-01T00:00:00.000</td>\n",
       "      <td>2130</td>\n",
       "      <td>07</td>\n",
       "      <td>Wilshire</td>\n",
       "      <td>0784</td>\n",
       "      <td>1</td>\n",
       "      <td>510</td>\n",
       "      <td>VEHICLE - STOLEN</td>\n",
       "      <td>...</td>\n",
       "      <td>1900 S  LONGWOOD                     AV</td>\n",
       "      <td>34.0375</td>\n",
       "      <td>-118.3506</td>\n",
       "      <td>NaN</td>\n",
       "      <td>NaN</td>\n",
       "      <td>NaN</td>\n",
       "      <td>NaN</td>\n",
       "      <td>NaN</td>\n",
       "      <td>NaN</td>\n",
       "      <td>2020</td>\n",
       "    </tr>\n",
       "    <tr>\n",
       "      <th>2</th>\n",
       "      <td>200320258</td>\n",
       "      <td>2020-11-11T00:00:00.000</td>\n",
       "      <td>2020-11-04T00:00:00.000</td>\n",
       "      <td>1700</td>\n",
       "      <td>03</td>\n",
       "      <td>Southwest</td>\n",
       "      <td>0356</td>\n",
       "      <td>1</td>\n",
       "      <td>480</td>\n",
       "      <td>BIKE - STOLEN</td>\n",
       "      <td>...</td>\n",
       "      <td>1400 W  37TH                         ST</td>\n",
       "      <td>34.0210</td>\n",
       "      <td>-118.3002</td>\n",
       "      <td>0344 1251</td>\n",
       "      <td>NaN</td>\n",
       "      <td>NaN</td>\n",
       "      <td>NaN</td>\n",
       "      <td>NaN</td>\n",
       "      <td>NaN</td>\n",
       "      <td>2020</td>\n",
       "    </tr>\n",
       "    <tr>\n",
       "      <th>3</th>\n",
       "      <td>200907217</td>\n",
       "      <td>2023-05-10T00:00:00.000</td>\n",
       "      <td>2020-03-10T00:00:00.000</td>\n",
       "      <td>2037</td>\n",
       "      <td>09</td>\n",
       "      <td>Van Nuys</td>\n",
       "      <td>0964</td>\n",
       "      <td>1</td>\n",
       "      <td>343</td>\n",
       "      <td>SHOPLIFTING-GRAND THEFT ($950.01 &amp; OVER)</td>\n",
       "      <td>...</td>\n",
       "      <td>14000    RIVERSIDE                    DR</td>\n",
       "      <td>34.1576</td>\n",
       "      <td>-118.4387</td>\n",
       "      <td>0325 1501</td>\n",
       "      <td>NaN</td>\n",
       "      <td>NaN</td>\n",
       "      <td>NaN</td>\n",
       "      <td>NaN</td>\n",
       "      <td>NaN</td>\n",
       "      <td>2020</td>\n",
       "    </tr>\n",
       "    <tr>\n",
       "      <th>4</th>\n",
       "      <td>220614831</td>\n",
       "      <td>2022-08-18T00:00:00.000</td>\n",
       "      <td>2020-08-17T00:00:00.000</td>\n",
       "      <td>1200</td>\n",
       "      <td>06</td>\n",
       "      <td>Hollywood</td>\n",
       "      <td>0666</td>\n",
       "      <td>2</td>\n",
       "      <td>354</td>\n",
       "      <td>THEFT OF IDENTITY</td>\n",
       "      <td>...</td>\n",
       "      <td>1900    TRANSIENT</td>\n",
       "      <td>34.0944</td>\n",
       "      <td>-118.3277</td>\n",
       "      <td>1822 1501 0930 2004</td>\n",
       "      <td>NaN</td>\n",
       "      <td>NaN</td>\n",
       "      <td>NaN</td>\n",
       "      <td>NaN</td>\n",
       "      <td>NaN</td>\n",
       "      <td>2020</td>\n",
       "    </tr>\n",
       "    <tr>\n",
       "      <th>5</th>\n",
       "      <td>231808869</td>\n",
       "      <td>2023-04-04T00:00:00.000</td>\n",
       "      <td>2020-12-01T00:00:00.000</td>\n",
       "      <td>2300</td>\n",
       "      <td>18</td>\n",
       "      <td>Southeast</td>\n",
       "      <td>1826</td>\n",
       "      <td>2</td>\n",
       "      <td>354</td>\n",
       "      <td>THEFT OF IDENTITY</td>\n",
       "      <td>...</td>\n",
       "      <td>9900    COMPTON                      AV</td>\n",
       "      <td>33.9467</td>\n",
       "      <td>-118.2463</td>\n",
       "      <td>1822 0100 0930 0929</td>\n",
       "      <td>NaN</td>\n",
       "      <td>NaN</td>\n",
       "      <td>NaN</td>\n",
       "      <td>NaN</td>\n",
       "      <td>NaN</td>\n",
       "      <td>2020</td>\n",
       "    </tr>\n",
       "  </tbody>\n",
       "</table>\n",
       "<p>5 rows × 29 columns</p>\n",
       "</div>"
      ],
      "text/plain": [
       "       dr_no                date_rptd                 date_occ time_occ area  \\\n",
       "0  190326475  2020-03-01T00:00:00.000  2020-03-01T00:00:00.000     2130   07   \n",
       "2  200320258  2020-11-11T00:00:00.000  2020-11-04T00:00:00.000     1700   03   \n",
       "3  200907217  2023-05-10T00:00:00.000  2020-03-10T00:00:00.000     2037   09   \n",
       "4  220614831  2022-08-18T00:00:00.000  2020-08-17T00:00:00.000     1200   06   \n",
       "5  231808869  2023-04-04T00:00:00.000  2020-12-01T00:00:00.000     2300   18   \n",
       "\n",
       "   area_name rpt_dist_no part_1_2 crm_cd  \\\n",
       "0   Wilshire        0784        1    510   \n",
       "2  Southwest        0356        1    480   \n",
       "3   Van Nuys        0964        1    343   \n",
       "4  Hollywood        0666        2    354   \n",
       "5  Southeast        1826        2    354   \n",
       "\n",
       "                                crm_cd_desc  ...  \\\n",
       "0                          VEHICLE - STOLEN  ...   \n",
       "2                             BIKE - STOLEN  ...   \n",
       "3  SHOPLIFTING-GRAND THEFT ($950.01 & OVER)  ...   \n",
       "4                         THEFT OF IDENTITY  ...   \n",
       "5                         THEFT OF IDENTITY  ...   \n",
       "\n",
       "                                   location      lat       lon  \\\n",
       "0   1900 S  LONGWOOD                     AV  34.0375 -118.3506   \n",
       "2   1400 W  37TH                         ST  34.0210 -118.3002   \n",
       "3  14000    RIVERSIDE                    DR  34.1576 -118.4387   \n",
       "4                         1900    TRANSIENT  34.0944 -118.3277   \n",
       "5   9900    COMPTON                      AV  33.9467 -118.2463   \n",
       "\n",
       "               mocodes weapon_used_cd weapon_desc cross_street crm_cd_3  \\\n",
       "0                  NaN            NaN         NaN          NaN      NaN   \n",
       "2            0344 1251            NaN         NaN          NaN      NaN   \n",
       "3            0325 1501            NaN         NaN          NaN      NaN   \n",
       "4  1822 1501 0930 2004            NaN         NaN          NaN      NaN   \n",
       "5  1822 0100 0930 0929            NaN         NaN          NaN      NaN   \n",
       "\n",
       "  crm_cd_4  Year  \n",
       "0      NaN  2020  \n",
       "2      NaN  2020  \n",
       "3      NaN  2020  \n",
       "4      NaN  2020  \n",
       "5      NaN  2020  \n",
       "\n",
       "[5 rows x 29 columns]"
      ]
     },
     "execution_count": 378,
     "metadata": {},
     "output_type": "execute_result"
    }
   ],
   "source": [
    "combodata.head()"
   ]
  },
  {
   "cell_type": "code",
   "execution_count": 379,
   "metadata": {},
   "outputs": [],
   "source": [
    "response_df_formatted = combodata"
   ]
  },
  {
   "cell_type": "code",
   "execution_count": 380,
   "metadata": {},
   "outputs": [],
   "source": [
    "response_df_formatted[\"Ethnicity\"] = response_df_formatted[\"vict_descent\"].replace({\"A\":\"Other Asian\",\"B\": \"Black\",\"C\":\"Chinese\",\"D\":\"Cambodian\",\n",
    "                                                                                    \"F\":\"Filipino\",\"G\":\"Guamanian\",\"H\":\"Hispanic/Latin/Mexican\",\n",
    "                                                                                    \"I\": \"American Indian/Alaskan Native\",\"J\":\"Japanese\",\n",
    "                                                                                    \"K\":\"Korean\",\"L\":\"Laotian\",\"O\":\"Other\",\"P\":\"Pacific Islander\",\n",
    "                                                                                    \"S\":\"Samoan\",\"U\":\"Hawaiian\",\"V\":\"Viatnamese\",\"W\":\"White\",\"X\":\"Unknown\",\n",
    "                                                                                    \"Z\":\"Asian Indian\"})"
   ]
  },
  {
   "cell_type": "code",
   "execution_count": 381,
   "metadata": {},
   "outputs": [],
   "source": [
    "response_df_formatted['date_occ'] = pd.to_datetime(response_df_formatted['date_occ'])"
   ]
  },
  {
   "cell_type": "code",
   "execution_count": 382,
   "metadata": {},
   "outputs": [],
   "source": [
    "validated_vict_desc_data = response_df_formatted[[\"Ethnicity\",\"Year\"]].loc[response_df_formatted[\"Ethnicity\"]!=\"-\"]\n",
    "ethnicity_victim_count = validated_vict_desc_data[\"Ethnicity\"].count()"
   ]
  },
  {
   "cell_type": "code",
   "execution_count": 383,
   "metadata": {},
   "outputs": [],
   "source": [
    "validated_vict_desc_data.dropna(subset=[\"Ethnicity\"],inplace=True)"
   ]
  },
  {
   "cell_type": "code",
   "execution_count": 384,
   "metadata": {},
   "outputs": [],
   "source": [
    "ethnicity_year_2020 = validated_vict_desc_data.loc[validated_vict_desc_data[\"Year\"] == \"2020\"]\n",
    "ethnicity_year_2021 = validated_vict_desc_data.loc[validated_vict_desc_data[\"Year\"] == \"2021\"]\n",
    "ethnicity_year_2022 = validated_vict_desc_data.loc[validated_vict_desc_data[\"Year\"] == \"2022\"]\n",
    "ethnicity_year_2023 = validated_vict_desc_data.loc[validated_vict_desc_data[\"Year\"] == \"2023\"]\n",
    "ethnicity_year_2024 = validated_vict_desc_data.loc[validated_vict_desc_data[\"Year\"] == \"2024\"]"
   ]
  },
  {
   "cell_type": "code",
   "execution_count": 385,
   "metadata": {},
   "outputs": [],
   "source": [
    "ethnicity_breakdown_2020=ethnicity_year_2020.groupby([\"Ethnicity\"]).size()/ethnicity_year_2020[\"Ethnicity\"].count()\n",
    "ethnicity_breakdown_2021=ethnicity_year_2021.groupby([\"Ethnicity\"]).size()/ethnicity_year_2021[\"Ethnicity\"].count()\n",
    "ethnicity_breakdown_2022=ethnicity_year_2022.groupby([\"Ethnicity\"]).size()/ethnicity_year_2022[\"Ethnicity\"].count()\n",
    "ethnicity_breakdown_2023=ethnicity_year_2023.groupby([\"Ethnicity\"]).size()/ethnicity_year_2023[\"Ethnicity\"].count()\n",
    "ethnicity_breakdown_2024=ethnicity_year_2024.groupby([\"Ethnicity\"]).size()/ethnicity_year_2024[\"Ethnicity\"].count()"
   ]
  },
  {
   "cell_type": "code",
   "execution_count": 386,
   "metadata": {},
   "outputs": [
    {
     "data": {
      "text/plain": [
       "Ethnicity\n",
       "American Indian/Alaskan Native    0.001136\n",
       "Asian Indian                      0.000767\n",
       "Black                             0.165642\n",
       "Cambodian                         0.000092\n",
       "Chinese                           0.004578\n",
       "Filipino                          0.005556\n",
       "Guamanian                         0.000071\n",
       "Hawaiian                          0.000256\n",
       "Hispanic/Latin/Mexican            0.351769\n",
       "Japanese                          0.001767\n",
       "Korean                            0.007231\n",
       "Laotian                           0.000098\n",
       "Other                             0.091759\n",
       "Other Asian                       0.024427\n",
       "Pacific Islander                  0.000299\n",
       "Samoan                            0.000071\n",
       "Unknown                           0.099490\n",
       "Viatnamese                        0.001267\n",
       "White                             0.243728\n",
       "dtype: float64"
      ]
     },
     "execution_count": 386,
     "metadata": {},
     "output_type": "execute_result"
    }
   ],
   "source": [
    "ethnicity_breakdown_2021"
   ]
  },
  {
   "cell_type": "code",
   "execution_count": 429,
   "metadata": {},
   "outputs": [],
   "source": [
    "ethnicity_breakdown_change_2021 = (100*(ethnicity_breakdown_2021 - ethnicity_breakdown_2020)/ethnicity_breakdown_2020).rename(\"2021 % Change\")\n",
    "ethnicity_breakdown_change_2022 = (100*(ethnicity_breakdown_2022 - ethnicity_breakdown_2021)/ethnicity_breakdown_2021).rename(\"2022 % Change\")\n",
    "ethnicity_breakdown_change_2023 = (100*(ethnicity_breakdown_2023 - ethnicity_breakdown_2022)/ethnicity_breakdown_2022).rename(\"2023 % Change\")\n"
   ]
  },
  {
   "cell_type": "code",
   "execution_count": 430,
   "metadata": {},
   "outputs": [],
   "source": [
    "ethnicity_bd_df_21 = ethnicity_breakdown_change_2021.to_frame()\n",
    "\n",
    "ethnicity_bd_df_22 = ethnicity_breakdown_change_2022.to_frame()\n",
    "\n",
    "ethnicity_bd_df_23 = ethnicity_breakdown_change_2023.to_frame()\n"
   ]
  },
  {
   "cell_type": "code",
   "execution_count": 431,
   "metadata": {},
   "outputs": [],
   "source": [
    "ethnicity_bd_df_21.reset_index(inplace = True)\n",
    "ethnicity_bd_df_22.reset_index(inplace = True)\n",
    "ethnicity_bd_df_23.reset_index(inplace = True)"
   ]
  },
  {
   "cell_type": "code",
   "execution_count": 432,
   "metadata": {},
   "outputs": [],
   "source": [
    "combined_bd_df = ethnicity_bd_df_21.merge(ethnicity_bd_df_22,how=\"outer\",on=\"Ethnicity\")\n",
    "combined_bd_df = combined_bd_df.merge(ethnicity_bd_df_23,how=\"outer\",on=\"Ethnicity\")\n",
    "combined_bd_df.sort_values(by=['2021 % Change'],ascending=False,inplace=True)\n",
    "combined_bd_df_head = combined_bd_df.head(7)"
   ]
  },
  {
   "cell_type": "code",
   "execution_count": 437,
   "metadata": {},
   "outputs": [
    {
     "data": {
      "text/plain": [
       "[]"
      ]
     },
     "execution_count": 437,
     "metadata": {},
     "output_type": "execute_result"
    },
    {
     "data": {
      "image/png": "[encoded data removed]",
      "text/plain": [
       "<Figure size 640x480 with 1 Axes>"
      ]
     },
     "metadata": {},
     "output_type": "display_data"
    }
   ],
   "source": [
    "percent_change_plot = sns.barplot(data=combined_bd_df_head.melt(id_vars=\"Ethnicity\",value_name=\"% Change\",var_name=\"Year\"),x=\"Ethnicity\",y=\"% Change\",hue=\"Year\")\n",
    "percent_change_plot.set_title(\"% Increase in Victim Representation from Previous Year\")\n",
    "plt.xticks(rotation=90)\n",
    "percent_change_plot.plot()"
   ]
  },
  {
   "cell_type": "code",
   "execution_count": 392,
   "metadata": {},
   "outputs": [],
   "source": [
    "ethnicity_bd_df_21.sort_values(by=['2021 % Change'],ascending=False,inplace=True)"
   ]
  },
  {
   "cell_type": "code",
   "execution_count": null,
   "metadata": {},
   "outputs": [],
   "source": []
  },
  {
   "cell_type": "code",
   "execution_count": 393,
   "metadata": {},
   "outputs": [],
   "source": [
    "ethnicity_bd_df_21 = ethnicity_bd_df_21.head(15)"
   ]
  },
  {
   "cell_type": "code",
   "execution_count": 394,
   "metadata": {},
   "outputs": [
    {
     "data": {
      "text/plain": [
       "(array([ 0,  1,  2,  3,  4,  5,  6,  7,  8,  9, 10, 11, 12, 13, 14]),\n",
       " [Text(0, 0, 'Laotian'),\n",
       "  Text(1, 0, 'Asian Indian'),\n",
       "  Text(2, 0, 'Hawaiian'),\n",
       "  Text(3, 0, 'Cambodian'),\n",
       "  Text(4, 0, 'Chinese'),\n",
       "  Text(5, 0, 'American Indian/Alaskan Native'),\n",
       "  Text(6, 0, 'Japanese'),\n",
       "  Text(7, 0, 'Samoan'),\n",
       "  Text(8, 0, 'Filipino'),\n",
       "  Text(9, 0, 'Viatnamese'),\n",
       "  Text(10, 0, 'Korean'),\n",
       "  Text(11, 0, 'Pacific Islander'),\n",
       "  Text(12, 0, 'Other Asian'),\n",
       "  Text(13, 0, 'Hispanic/Latin/Mexican'),\n",
       "  Text(14, 0, 'Black')])"
      ]
     },
     "execution_count": 394,
     "metadata": {},
     "output_type": "execute_result"
    },
    {
     "data": {
      "image/png": "[encoded data removed]",
      "text/plain": [
       "<Figure size 640x480 with 1 Axes>"
      ]
     },
     "metadata": {},
     "output_type": "display_data"
    }
   ],
   "source": [
    "percent_change_plot = sns.barplot(data=ethnicity_bd_df_21.melt(id_vars=\"Ethnicity\",value_name=\"% Change\",var_name=\"Year\"),\n",
    "x=\"Ethnicity\",y=\"% Change\",hue=\"Year\")\n",
    "plt.xticks(rotation=90)"
   ]
  },
  {
   "cell_type": "code",
   "execution_count": 395,
   "metadata": {},
   "outputs": [
    {
     "data": {
      "text/plain": [
       "Index(['dr_no', 'date_rptd', 'date_occ', 'time_occ', 'area', 'area_name',\n",
       "       'rpt_dist_no', 'part_1_2', 'crm_cd', 'crm_cd_desc', 'vict_age',\n",
       "       'vict_sex', 'vict_descent', 'premis_cd', 'premis_desc', 'status',\n",
       "       'status_desc', 'crm_cd_1', 'crm_cd_2', 'location', 'lat', 'lon',\n",
       "       'mocodes', 'weapon_used_cd', 'weapon_desc', 'cross_street', 'crm_cd_3',\n",
       "       'crm_cd_4', 'Year', 'Ethnicity'],\n",
       "      dtype='object')"
      ]
     },
     "execution_count": 395,
     "metadata": {},
     "output_type": "execute_result"
    }
   ],
   "source": [
    "response_df_formatted.columns"
   ]
  },
  {
   "cell_type": "code",
   "execution_count": 427,
   "metadata": {},
   "outputs": [],
   "source": [
    "#codes sourced from LAPD PDF on dataset site\n",
    "mocode_formatted = response_df_formatted.copy().dropna(subset=['mocodes'])\n"
   ]
  },
  {
   "cell_type": "code",
   "execution_count": 428,
   "metadata": {},
   "outputs": [
    {
     "data": {
      "text/html": [
       "<div>\n",
       "<style scoped>\n",
       "    .dataframe tbody tr th:only-of-type {\n",
       "        vertical-align: middle;\n",
       "    }\n",
       "\n",
       "    .dataframe tbody tr th {\n",
       "        vertical-align: top;\n",
       "    }\n",
       "\n",
       "    .dataframe thead th {\n",
       "        text-align: right;\n",
       "    }\n",
       "</style>\n",
       "<table border=\"1\" class=\"dataframe\">\n",
       "  <thead>\n",
       "    <tr style=\"text-align: right;\">\n",
       "      <th></th>\n",
       "      <th>dr_no</th>\n",
       "      <th>date_rptd</th>\n",
       "      <th>date_occ</th>\n",
       "      <th>time_occ</th>\n",
       "      <th>area</th>\n",
       "      <th>area_name</th>\n",
       "      <th>rpt_dist_no</th>\n",
       "      <th>part_1_2</th>\n",
       "      <th>crm_cd</th>\n",
       "      <th>crm_cd_desc</th>\n",
       "      <th>...</th>\n",
       "      <th>lon</th>\n",
       "      <th>mocodes</th>\n",
       "      <th>weapon_used_cd</th>\n",
       "      <th>weapon_desc</th>\n",
       "      <th>cross_street</th>\n",
       "      <th>crm_cd_3</th>\n",
       "      <th>crm_cd_4</th>\n",
       "      <th>Year</th>\n",
       "      <th>Ethnicity</th>\n",
       "      <th>Age Group</th>\n",
       "    </tr>\n",
       "  </thead>\n",
       "  <tbody>\n",
       "    <tr>\n",
       "      <th>2</th>\n",
       "      <td>200320258</td>\n",
       "      <td>2020-11-11T00:00:00.000</td>\n",
       "      <td>2020-11-04</td>\n",
       "      <td>1700</td>\n",
       "      <td>03</td>\n",
       "      <td>Southwest</td>\n",
       "      <td>0356</td>\n",
       "      <td>1</td>\n",
       "      <td>480</td>\n",
       "      <td>BIKE - STOLEN</td>\n",
       "      <td>...</td>\n",
       "      <td>-118.3002</td>\n",
       "      <td>0344 1251</td>\n",
       "      <td>NaN</td>\n",
       "      <td>NaN</td>\n",
       "      <td>NaN</td>\n",
       "      <td>NaN</td>\n",
       "      <td>NaN</td>\n",
       "      <td>2020</td>\n",
       "      <td>Unknown</td>\n",
       "      <td>Young Adult</td>\n",
       "    </tr>\n",
       "    <tr>\n",
       "      <th>3</th>\n",
       "      <td>200907217</td>\n",
       "      <td>2023-05-10T00:00:00.000</td>\n",
       "      <td>2020-03-10</td>\n",
       "      <td>2037</td>\n",
       "      <td>09</td>\n",
       "      <td>Van Nuys</td>\n",
       "      <td>0964</td>\n",
       "      <td>1</td>\n",
       "      <td>343</td>\n",
       "      <td>SHOPLIFTING-GRAND THEFT ($950.01 &amp; OVER)</td>\n",
       "      <td>...</td>\n",
       "      <td>-118.4387</td>\n",
       "      <td>0325 1501</td>\n",
       "      <td>NaN</td>\n",
       "      <td>NaN</td>\n",
       "      <td>NaN</td>\n",
       "      <td>NaN</td>\n",
       "      <td>NaN</td>\n",
       "      <td>2020</td>\n",
       "      <td>Other</td>\n",
       "      <td>Young Adult</td>\n",
       "    </tr>\n",
       "    <tr>\n",
       "      <th>4</th>\n",
       "      <td>220614831</td>\n",
       "      <td>2022-08-18T00:00:00.000</td>\n",
       "      <td>2020-08-17</td>\n",
       "      <td>1200</td>\n",
       "      <td>06</td>\n",
       "      <td>Hollywood</td>\n",
       "      <td>0666</td>\n",
       "      <td>2</td>\n",
       "      <td>354</td>\n",
       "      <td>THEFT OF IDENTITY</td>\n",
       "      <td>...</td>\n",
       "      <td>-118.3277</td>\n",
       "      <td>1822 1501 0930 2004</td>\n",
       "      <td>NaN</td>\n",
       "      <td>NaN</td>\n",
       "      <td>NaN</td>\n",
       "      <td>NaN</td>\n",
       "      <td>NaN</td>\n",
       "      <td>2020</td>\n",
       "      <td>Hispanic/Latin/Mexican</td>\n",
       "      <td>Young Adult</td>\n",
       "    </tr>\n",
       "    <tr>\n",
       "      <th>5</th>\n",
       "      <td>231808869</td>\n",
       "      <td>2023-04-04T00:00:00.000</td>\n",
       "      <td>2020-12-01</td>\n",
       "      <td>2300</td>\n",
       "      <td>18</td>\n",
       "      <td>Southeast</td>\n",
       "      <td>1826</td>\n",
       "      <td>2</td>\n",
       "      <td>354</td>\n",
       "      <td>THEFT OF IDENTITY</td>\n",
       "      <td>...</td>\n",
       "      <td>-118.2463</td>\n",
       "      <td>1822 0100 0930 0929</td>\n",
       "      <td>NaN</td>\n",
       "      <td>NaN</td>\n",
       "      <td>NaN</td>\n",
       "      <td>NaN</td>\n",
       "      <td>NaN</td>\n",
       "      <td>2020</td>\n",
       "      <td>Hispanic/Latin/Mexican</td>\n",
       "      <td>Adult</td>\n",
       "    </tr>\n",
       "    <tr>\n",
       "      <th>6</th>\n",
       "      <td>230110144</td>\n",
       "      <td>2023-04-04T00:00:00.000</td>\n",
       "      <td>2020-07-03</td>\n",
       "      <td>0900</td>\n",
       "      <td>01</td>\n",
       "      <td>Central</td>\n",
       "      <td>0182</td>\n",
       "      <td>2</td>\n",
       "      <td>354</td>\n",
       "      <td>THEFT OF IDENTITY</td>\n",
       "      <td>...</td>\n",
       "      <td>-118.2620</td>\n",
       "      <td>0930 0929</td>\n",
       "      <td>NaN</td>\n",
       "      <td>NaN</td>\n",
       "      <td>NaN</td>\n",
       "      <td>NaN</td>\n",
       "      <td>NaN</td>\n",
       "      <td>2020</td>\n",
       "      <td>Hispanic/Latin/Mexican</td>\n",
       "      <td>Young Adult</td>\n",
       "    </tr>\n",
       "    <tr>\n",
       "      <th>...</th>\n",
       "      <td>...</td>\n",
       "      <td>...</td>\n",
       "      <td>...</td>\n",
       "      <td>...</td>\n",
       "      <td>...</td>\n",
       "      <td>...</td>\n",
       "      <td>...</td>\n",
       "      <td>...</td>\n",
       "      <td>...</td>\n",
       "      <td>...</td>\n",
       "      <td>...</td>\n",
       "      <td>...</td>\n",
       "      <td>...</td>\n",
       "      <td>...</td>\n",
       "      <td>...</td>\n",
       "      <td>...</td>\n",
       "      <td>...</td>\n",
       "      <td>...</td>\n",
       "      <td>...</td>\n",
       "      <td>...</td>\n",
       "      <td>...</td>\n",
       "    </tr>\n",
       "    <tr>\n",
       "      <th>925715</th>\n",
       "      <td>241605270</td>\n",
       "      <td>2024-02-11T00:00:00.000</td>\n",
       "      <td>2024-02-11</td>\n",
       "      <td>1920</td>\n",
       "      <td>16</td>\n",
       "      <td>Foothill</td>\n",
       "      <td>1681</td>\n",
       "      <td>2</td>\n",
       "      <td>888</td>\n",
       "      <td>TRESPASSING</td>\n",
       "      <td>...</td>\n",
       "      <td>-118.4051</td>\n",
       "      <td>0913 1202 1501</td>\n",
       "      <td>NaN</td>\n",
       "      <td>NaN</td>\n",
       "      <td>NaN</td>\n",
       "      <td>NaN</td>\n",
       "      <td>NaN</td>\n",
       "      <td>2023</td>\n",
       "      <td>Other</td>\n",
       "      <td>Elderly</td>\n",
       "    </tr>\n",
       "    <tr>\n",
       "      <th>925716</th>\n",
       "      <td>241604405</td>\n",
       "      <td>2024-01-14T00:00:00.000</td>\n",
       "      <td>2024-01-13</td>\n",
       "      <td>0720</td>\n",
       "      <td>16</td>\n",
       "      <td>Foothill</td>\n",
       "      <td>1673</td>\n",
       "      <td>1</td>\n",
       "      <td>230</td>\n",
       "      <td>ASSAULT WITH DEADLY WEAPON, AGGRAVATED ASSAULT</td>\n",
       "      <td>...</td>\n",
       "      <td>-118.3878</td>\n",
       "      <td>0400 1822 1310 0416</td>\n",
       "      <td>207</td>\n",
       "      <td>OTHER KNIFE</td>\n",
       "      <td>NaN</td>\n",
       "      <td>NaN</td>\n",
       "      <td>NaN</td>\n",
       "      <td>2023</td>\n",
       "      <td>Hispanic/Latin/Mexican</td>\n",
       "      <td>Adult</td>\n",
       "    </tr>\n",
       "    <tr>\n",
       "      <th>925717</th>\n",
       "      <td>242106032</td>\n",
       "      <td>2024-02-20T00:00:00.000</td>\n",
       "      <td>2024-02-17</td>\n",
       "      <td>2330</td>\n",
       "      <td>21</td>\n",
       "      <td>Topanga</td>\n",
       "      <td>2103</td>\n",
       "      <td>1</td>\n",
       "      <td>420</td>\n",
       "      <td>THEFT FROM MOTOR VEHICLE - PETTY ($950 &amp; UNDER)</td>\n",
       "      <td>...</td>\n",
       "      <td>-118.6214</td>\n",
       "      <td>0385</td>\n",
       "      <td>NaN</td>\n",
       "      <td>NaN</td>\n",
       "      <td>NaN</td>\n",
       "      <td>NaN</td>\n",
       "      <td>NaN</td>\n",
       "      <td>2023</td>\n",
       "      <td>Other</td>\n",
       "      <td>Adult</td>\n",
       "    </tr>\n",
       "    <tr>\n",
       "      <th>925718</th>\n",
       "      <td>242004546</td>\n",
       "      <td>2024-01-16T00:00:00.000</td>\n",
       "      <td>2024-01-16</td>\n",
       "      <td>1510</td>\n",
       "      <td>20</td>\n",
       "      <td>Olympic</td>\n",
       "      <td>2013</td>\n",
       "      <td>2</td>\n",
       "      <td>624</td>\n",
       "      <td>BATTERY - SIMPLE ASSAULT</td>\n",
       "      <td>...</td>\n",
       "      <td>-118.3054</td>\n",
       "      <td>2047 0400 0429 0444 1202 1822</td>\n",
       "      <td>400</td>\n",
       "      <td>STRONG-ARM (HANDS, FIST, FEET OR BODILY FORCE)</td>\n",
       "      <td>3RD                          ST</td>\n",
       "      <td>NaN</td>\n",
       "      <td>NaN</td>\n",
       "      <td>2023</td>\n",
       "      <td>Other</td>\n",
       "      <td>Elderly</td>\n",
       "    </tr>\n",
       "    <tr>\n",
       "      <th>925719</th>\n",
       "      <td>240104953</td>\n",
       "      <td>2024-01-15T00:00:00.000</td>\n",
       "      <td>2024-01-15</td>\n",
       "      <td>0100</td>\n",
       "      <td>01</td>\n",
       "      <td>Central</td>\n",
       "      <td>0101</td>\n",
       "      <td>2</td>\n",
       "      <td>745</td>\n",
       "      <td>VANDALISM - MISDEAMEANOR ($399 OR UNDER)</td>\n",
       "      <td>...</td>\n",
       "      <td>-118.2460</td>\n",
       "      <td>0329 0400 0416</td>\n",
       "      <td>500</td>\n",
       "      <td>UNKNOWN WEAPON/OTHER WEAPON</td>\n",
       "      <td>NaN</td>\n",
       "      <td>NaN</td>\n",
       "      <td>NaN</td>\n",
       "      <td>2023</td>\n",
       "      <td>Unknown</td>\n",
       "      <td>Minor</td>\n",
       "    </tr>\n",
       "  </tbody>\n",
       "</table>\n",
       "<p>749818 rows × 31 columns</p>\n",
       "</div>"
      ],
      "text/plain": [
       "            dr_no                date_rptd   date_occ time_occ area  \\\n",
       "2       200320258  2020-11-11T00:00:00.000 2020-11-04     1700   03   \n",
       "3       200907217  2023-05-10T00:00:00.000 2020-03-10     2037   09   \n",
       "4       220614831  2022-08-18T00:00:00.000 2020-08-17     1200   06   \n",
       "5       231808869  2023-04-04T00:00:00.000 2020-12-01     2300   18   \n",
       "6       230110144  2023-04-04T00:00:00.000 2020-07-03     0900   01   \n",
       "...           ...                      ...        ...      ...  ...   \n",
       "925715  241605270  2024-02-11T00:00:00.000 2024-02-11     1920   16   \n",
       "925716  241604405  2024-01-14T00:00:00.000 2024-01-13     0720   16   \n",
       "925717  242106032  2024-02-20T00:00:00.000 2024-02-17     2330   21   \n",
       "925718  242004546  2024-01-16T00:00:00.000 2024-01-16     1510   20   \n",
       "925719  240104953  2024-01-15T00:00:00.000 2024-01-15     0100   01   \n",
       "\n",
       "        area_name rpt_dist_no part_1_2 crm_cd  \\\n",
       "2       Southwest        0356        1    480   \n",
       "3        Van Nuys        0964        1    343   \n",
       "4       Hollywood        0666        2    354   \n",
       "5       Southeast        1826        2    354   \n",
       "6         Central        0182        2    354   \n",
       "...           ...         ...      ...    ...   \n",
       "925715   Foothill        1681        2    888   \n",
       "925716   Foothill        1673        1    230   \n",
       "925717    Topanga        2103        1    420   \n",
       "925718    Olympic        2013        2    624   \n",
       "925719    Central        0101        2    745   \n",
       "\n",
       "                                            crm_cd_desc  ...       lon  \\\n",
       "2                                         BIKE - STOLEN  ... -118.3002   \n",
       "3              SHOPLIFTING-GRAND THEFT ($950.01 & OVER)  ... -118.4387   \n",
       "4                                     THEFT OF IDENTITY  ... -118.3277   \n",
       "5                                     THEFT OF IDENTITY  ... -118.2463   \n",
       "6                                     THEFT OF IDENTITY  ... -118.2620   \n",
       "...                                                 ...  ...       ...   \n",
       "925715                                      TRESPASSING  ... -118.4051   \n",
       "925716   ASSAULT WITH DEADLY WEAPON, AGGRAVATED ASSAULT  ... -118.3878   \n",
       "925717  THEFT FROM MOTOR VEHICLE - PETTY ($950 & UNDER)  ... -118.6214   \n",
       "925718                         BATTERY - SIMPLE ASSAULT  ... -118.3054   \n",
       "925719         VANDALISM - MISDEAMEANOR ($399 OR UNDER)  ... -118.2460   \n",
       "\n",
       "                              mocodes weapon_used_cd  \\\n",
       "2                           0344 1251            NaN   \n",
       "3                           0325 1501            NaN   \n",
       "4                 1822 1501 0930 2004            NaN   \n",
       "5                 1822 0100 0930 0929            NaN   \n",
       "6                           0930 0929            NaN   \n",
       "...                               ...            ...   \n",
       "925715                 0913 1202 1501            NaN   \n",
       "925716            0400 1822 1310 0416            207   \n",
       "925717                           0385            NaN   \n",
       "925718  2047 0400 0429 0444 1202 1822            400   \n",
       "925719                 0329 0400 0416            500   \n",
       "\n",
       "                                           weapon_desc  \\\n",
       "2                                                  NaN   \n",
       "3                                                  NaN   \n",
       "4                                                  NaN   \n",
       "5                                                  NaN   \n",
       "6                                                  NaN   \n",
       "...                                                ...   \n",
       "925715                                             NaN   \n",
       "925716                                     OTHER KNIFE   \n",
       "925717                                             NaN   \n",
       "925718  STRONG-ARM (HANDS, FIST, FEET OR BODILY FORCE)   \n",
       "925719                     UNKNOWN WEAPON/OTHER WEAPON   \n",
       "\n",
       "                           cross_street crm_cd_3 crm_cd_4  Year  \\\n",
       "2                                   NaN      NaN      NaN  2020   \n",
       "3                                   NaN      NaN      NaN  2020   \n",
       "4                                   NaN      NaN      NaN  2020   \n",
       "5                                   NaN      NaN      NaN  2020   \n",
       "6                                   NaN      NaN      NaN  2020   \n",
       "...                                 ...      ...      ...   ...   \n",
       "925715                              NaN      NaN      NaN  2023   \n",
       "925716                              NaN      NaN      NaN  2023   \n",
       "925717                              NaN      NaN      NaN  2023   \n",
       "925718  3RD                          ST      NaN      NaN  2023   \n",
       "925719                              NaN      NaN      NaN  2023   \n",
       "\n",
       "                     Ethnicity    Age Group  \n",
       "2                      Unknown  Young Adult  \n",
       "3                        Other  Young Adult  \n",
       "4       Hispanic/Latin/Mexican  Young Adult  \n",
       "5       Hispanic/Latin/Mexican        Adult  \n",
       "6       Hispanic/Latin/Mexican  Young Adult  \n",
       "...                        ...          ...  \n",
       "925715                   Other      Elderly  \n",
       "925716  Hispanic/Latin/Mexican        Adult  \n",
       "925717                   Other        Adult  \n",
       "925718                   Other      Elderly  \n",
       "925719                 Unknown        Minor  \n",
       "\n",
       "[749818 rows x 31 columns]"
      ]
     },
     "execution_count": 428,
     "metadata": {},
     "output_type": "execute_result"
    }
   ],
   "source": [
    "mocode_formatted"
   ]
  },
  {
   "cell_type": "code",
   "execution_count": 397,
   "metadata": {},
   "outputs": [],
   "source": [
    "response_df_formatted[\"vict_age\"]=response_df_formatted[\"vict_age\"].astype(\"int\")"
   ]
  },
  {
   "cell_type": "code",
   "execution_count": 398,
   "metadata": {},
   "outputs": [],
   "source": [
    "bins = [0,18,30,45,65,120]\n",
    "group_names = [\"Minor\",\"Young Adult\",\"Adult\",\"Senior\",\"Elderly\"]\n",
    "response_df_formatted[\"Age Group\"] = pd.cut(response_df_formatted[\"vict_age\"],bins,labels=group_names,include_lowest=True)"
   ]
  },
  {
   "cell_type": "code",
   "execution_count": 399,
   "metadata": {},
   "outputs": [
    {
     "data": {
      "text/plain": [
       "vict_age\n",
       "30     19768\n",
       "35     19444\n",
       "31     18929\n",
       "29     18771\n",
       "28     18573\n",
       "       ...  \n",
       "95        89\n",
       "96        85\n",
       "98        68\n",
       "97        67\n",
       "120        1\n",
       "Name: count, Length: 99, dtype: int64"
      ]
     },
     "execution_count": 399,
     "metadata": {},
     "output_type": "execute_result"
    }
   ],
   "source": [
    "validated_age_desc_data = response_df_formatted.loc[response_df_formatted[\"vict_age\"]>=1]\n",
    "validated_age_desc_data[\"vict_age\"].value_counts()"
   ]
  },
  {
   "cell_type": "code",
   "execution_count": 400,
   "metadata": {},
   "outputs": [
    {
     "data": {
      "text/plain": [
       "array(['2020', '2021', '2022', '2023'], dtype=object)"
      ]
     },
     "execution_count": 400,
     "metadata": {},
     "output_type": "execute_result"
    }
   ],
   "source": [
    "response_df_formatted[\"Year\"].unique()"
   ]
  },
  {
   "cell_type": "code",
   "execution_count": 401,
   "metadata": {},
   "outputs": [
    {
     "data": {
      "text/plain": [
       "Age Group\n",
       "Adult          227832\n",
       "Young Adult    186073\n",
       "Senior         165055\n",
       "Elderly         44327\n",
       "Minor           28105\n",
       "Name: count, dtype: int64"
      ]
     },
     "execution_count": 401,
     "metadata": {},
     "output_type": "execute_result"
    }
   ],
   "source": [
    "validated_age_desc_data[\"Age Group\"].value_counts()"
   ]
  },
  {
   "cell_type": "code",
   "execution_count": 402,
   "metadata": {},
   "outputs": [],
   "source": [
    "age_group_2020 = validated_age_desc_data[\"Age Group\"].loc[response_df_formatted[\"Year\"] == \"2020\"]\n",
    "age_group_2021 = validated_age_desc_data[\"Age Group\"].loc[response_df_formatted[\"Year\"] == \"2021\"]\n",
    "age_group_2022 = validated_age_desc_data[\"Age Group\"].loc[response_df_formatted[\"Year\"] == \"2022\"]\n",
    "age_group_2023 = validated_age_desc_data[\"Age Group\"].loc[response_df_formatted[\"Year\"] == \"2023\"]\n",
    "age_group_all = validated_age_desc_data[\"Age Group\"].count()"
   ]
  },
  {
   "cell_type": "code",
   "execution_count": 403,
   "metadata": {},
   "outputs": [],
   "source": [
    "age_breakdown_2020=(age_group_2020.value_counts()*100/age_group_2020.count()).rename(\"2020 Age Group %\")\n",
    "age_breakdown_2021=(age_group_2021.value_counts()*100/age_group_2021.count()).rename(\"2021 Age Group %\")\n",
    "age_breakdown_2022=(age_group_2022.value_counts()*100/age_group_2022.count()).rename(\"2022 Age Group %\")\n",
    "age_breakdown_2023=(age_group_2023.value_counts()*100/age_group_2023.count()).rename(\"2023 Age Group %\")\n"
   ]
  },
  {
   "cell_type": "code",
   "execution_count": 404,
   "metadata": {},
   "outputs": [],
   "source": [
    "age_breakdown_2020_df = age_breakdown_2020.to_frame()\n",
    "age_breakdown_2020_df.reset_index(inplace = True)\n",
    "\n",
    "age_breakdown_2021_df = age_breakdown_2021.to_frame()\n",
    "age_breakdown_2021_df.reset_index(inplace = True)\n",
    "\n",
    "age_breakdown_2022_df = age_breakdown_2022.to_frame()\n",
    "age_breakdown_2022_df.reset_index(inplace = True)\n",
    "\n",
    "age_breakdown_2023_df = age_breakdown_2023.to_frame()\n",
    "age_breakdown_2023_df.reset_index(inplace = True)\n"
   ]
  },
  {
   "cell_type": "code",
   "execution_count": 405,
   "metadata": {},
   "outputs": [
    {
     "data": {
      "text/html": [
       "<div>\n",
       "<style scoped>\n",
       "    .dataframe tbody tr th:only-of-type {\n",
       "        vertical-align: middle;\n",
       "    }\n",
       "\n",
       "    .dataframe tbody tr th {\n",
       "        vertical-align: top;\n",
       "    }\n",
       "\n",
       "    .dataframe thead th {\n",
       "        text-align: right;\n",
       "    }\n",
       "</style>\n",
       "<table border=\"1\" class=\"dataframe\">\n",
       "  <thead>\n",
       "    <tr style=\"text-align: right;\">\n",
       "      <th></th>\n",
       "      <th>Age Group</th>\n",
       "      <th>2020 Age Group %</th>\n",
       "    </tr>\n",
       "  </thead>\n",
       "  <tbody>\n",
       "    <tr>\n",
       "      <th>0</th>\n",
       "      <td>Adult</td>\n",
       "      <td>34.462457</td>\n",
       "    </tr>\n",
       "    <tr>\n",
       "      <th>1</th>\n",
       "      <td>Young Adult</td>\n",
       "      <td>28.534558</td>\n",
       "    </tr>\n",
       "    <tr>\n",
       "      <th>2</th>\n",
       "      <td>Senior</td>\n",
       "      <td>26.622488</td>\n",
       "    </tr>\n",
       "    <tr>\n",
       "      <th>3</th>\n",
       "      <td>Elderly</td>\n",
       "      <td>6.394792</td>\n",
       "    </tr>\n",
       "    <tr>\n",
       "      <th>4</th>\n",
       "      <td>Minor</td>\n",
       "      <td>3.985706</td>\n",
       "    </tr>\n",
       "  </tbody>\n",
       "</table>\n",
       "</div>"
      ],
      "text/plain": [
       "     Age Group  2020 Age Group %\n",
       "0        Adult         34.462457\n",
       "1  Young Adult         28.534558\n",
       "2       Senior         26.622488\n",
       "3      Elderly          6.394792\n",
       "4        Minor          3.985706"
      ]
     },
     "execution_count": 405,
     "metadata": {},
     "output_type": "execute_result"
    }
   ],
   "source": [
    "age_breakdown_2020_df"
   ]
  },
  {
   "cell_type": "code",
   "execution_count": 444,
   "metadata": {},
   "outputs": [],
   "source": [
    "combined_age_df = age_breakdown_2020_df.merge(age_breakdown_2021_df,how=\"outer\",on=\"Age Group\")\n",
    "combined_age_df = combined_age_df.merge(age_breakdown_2022_df,how=\"outer\", on=\"Age Group\")\n",
    "combined_age_df = combined_age_df.merge(age_breakdown_2023_df,how=\"outer\", on=\"Age Group\")\n"
   ]
  },
  {
   "cell_type": "code",
   "execution_count": 445,
   "metadata": {},
   "outputs": [
    {
     "data": {
      "text/html": [
       "<div>\n",
       "<style scoped>\n",
       "    .dataframe tbody tr th:only-of-type {\n",
       "        vertical-align: middle;\n",
       "    }\n",
       "\n",
       "    .dataframe tbody tr th {\n",
       "        vertical-align: top;\n",
       "    }\n",
       "\n",
       "    .dataframe thead th {\n",
       "        text-align: right;\n",
       "    }\n",
       "</style>\n",
       "<table border=\"1\" class=\"dataframe\">\n",
       "  <thead>\n",
       "    <tr style=\"text-align: right;\">\n",
       "      <th></th>\n",
       "      <th>Age Group</th>\n",
       "      <th>2020 Age Group %</th>\n",
       "      <th>2021 Age Group %</th>\n",
       "      <th>2022 Age Group %</th>\n",
       "      <th>2023 Age Group %</th>\n",
       "    </tr>\n",
       "  </thead>\n",
       "  <tbody>\n",
       "    <tr>\n",
       "      <th>0</th>\n",
       "      <td>Adult</td>\n",
       "      <td>34.462457</td>\n",
       "      <td>34.727130</td>\n",
       "      <td>35.620774</td>\n",
       "      <td>34.969964</td>\n",
       "    </tr>\n",
       "    <tr>\n",
       "      <th>1</th>\n",
       "      <td>Young Adult</td>\n",
       "      <td>28.534558</td>\n",
       "      <td>28.754865</td>\n",
       "      <td>28.609910</td>\n",
       "      <td>28.356491</td>\n",
       "    </tr>\n",
       "    <tr>\n",
       "      <th>2</th>\n",
       "      <td>Senior</td>\n",
       "      <td>26.622488</td>\n",
       "      <td>25.610624</td>\n",
       "      <td>24.650261</td>\n",
       "      <td>24.682339</td>\n",
       "    </tr>\n",
       "    <tr>\n",
       "      <th>3</th>\n",
       "      <td>Elderly</td>\n",
       "      <td>6.394792</td>\n",
       "      <td>6.695050</td>\n",
       "      <td>6.712670</td>\n",
       "      <td>7.382596</td>\n",
       "    </tr>\n",
       "    <tr>\n",
       "      <th>4</th>\n",
       "      <td>Minor</td>\n",
       "      <td>3.985706</td>\n",
       "      <td>4.212331</td>\n",
       "      <td>4.406385</td>\n",
       "      <td>4.608611</td>\n",
       "    </tr>\n",
       "  </tbody>\n",
       "</table>\n",
       "</div>"
      ],
      "text/plain": [
       "     Age Group  2020 Age Group %  2021 Age Group %  2022 Age Group %  \\\n",
       "0        Adult         34.462457         34.727130         35.620774   \n",
       "1  Young Adult         28.534558         28.754865         28.609910   \n",
       "2       Senior         26.622488         25.610624         24.650261   \n",
       "3      Elderly          6.394792          6.695050          6.712670   \n",
       "4        Minor          3.985706          4.212331          4.406385   \n",
       "\n",
       "   2023 Age Group %  \n",
       "0         34.969964  \n",
       "1         28.356491  \n",
       "2         24.682339  \n",
       "3          7.382596  \n",
       "4          4.608611  "
      ]
     },
     "execution_count": 445,
     "metadata": {},
     "output_type": "execute_result"
    }
   ],
   "source": [
    "combined_age_df"
   ]
  },
  {
   "cell_type": "code",
   "execution_count": 448,
   "metadata": {},
   "outputs": [],
   "source": [
    "combined_age_categorical_df = combined_age_df.rename(columns = {\"2020 Age Group %\":\"Restrictions Begin\",\n",
    "                                                                \"2021 Age Group %\":\"Vaccine Availability\",\n",
    "                                                                \"2022 Age Group %\":\"Booster Availability\",\n",
    "                                                                \"2023 Age Group %\":\"Restrictions End\"})\n"
   ]
  },
  {
   "cell_type": "code",
   "execution_count": 449,
   "metadata": {},
   "outputs": [
    {
     "data": {
      "text/html": [
       "<div>\n",
       "<style scoped>\n",
       "    .dataframe tbody tr th:only-of-type {\n",
       "        vertical-align: middle;\n",
       "    }\n",
       "\n",
       "    .dataframe tbody tr th {\n",
       "        vertical-align: top;\n",
       "    }\n",
       "\n",
       "    .dataframe thead th {\n",
       "        text-align: right;\n",
       "    }\n",
       "</style>\n",
       "<table border=\"1\" class=\"dataframe\">\n",
       "  <thead>\n",
       "    <tr style=\"text-align: right;\">\n",
       "      <th></th>\n",
       "      <th>Age Group</th>\n",
       "      <th>Restrictions Begin</th>\n",
       "      <th>Vaccine Availability</th>\n",
       "      <th>Booster Availability</th>\n",
       "      <th>Restrictions End</th>\n",
       "    </tr>\n",
       "  </thead>\n",
       "  <tbody>\n",
       "    <tr>\n",
       "      <th>0</th>\n",
       "      <td>Adult</td>\n",
       "      <td>34.462457</td>\n",
       "      <td>34.727130</td>\n",
       "      <td>35.620774</td>\n",
       "      <td>34.969964</td>\n",
       "    </tr>\n",
       "    <tr>\n",
       "      <th>1</th>\n",
       "      <td>Young Adult</td>\n",
       "      <td>28.534558</td>\n",
       "      <td>28.754865</td>\n",
       "      <td>28.609910</td>\n",
       "      <td>28.356491</td>\n",
       "    </tr>\n",
       "    <tr>\n",
       "      <th>2</th>\n",
       "      <td>Senior</td>\n",
       "      <td>26.622488</td>\n",
       "      <td>25.610624</td>\n",
       "      <td>24.650261</td>\n",
       "      <td>24.682339</td>\n",
       "    </tr>\n",
       "    <tr>\n",
       "      <th>3</th>\n",
       "      <td>Elderly</td>\n",
       "      <td>6.394792</td>\n",
       "      <td>6.695050</td>\n",
       "      <td>6.712670</td>\n",
       "      <td>7.382596</td>\n",
       "    </tr>\n",
       "    <tr>\n",
       "      <th>4</th>\n",
       "      <td>Minor</td>\n",
       "      <td>3.985706</td>\n",
       "      <td>4.212331</td>\n",
       "      <td>4.406385</td>\n",
       "      <td>4.608611</td>\n",
       "    </tr>\n",
       "  </tbody>\n",
       "</table>\n",
       "</div>"
      ],
      "text/plain": [
       "     Age Group  Restrictions Begin  Vaccine Availability  \\\n",
       "0        Adult           34.462457             34.727130   \n",
       "1  Young Adult           28.534558             28.754865   \n",
       "2       Senior           26.622488             25.610624   \n",
       "3      Elderly            6.394792              6.695050   \n",
       "4        Minor            3.985706              4.212331   \n",
       "\n",
       "   Booster Availability  Restrictions End  \n",
       "0             35.620774         34.969964  \n",
       "1             28.609910         28.356491  \n",
       "2             24.650261         24.682339  \n",
       "3              6.712670          7.382596  \n",
       "4              4.406385          4.608611  "
      ]
     },
     "execution_count": 449,
     "metadata": {},
     "output_type": "execute_result"
    }
   ],
   "source": [
    "combined_age_categorical_df"
   ]
  },
  {
   "cell_type": "code",
   "execution_count": 467,
   "metadata": {},
   "outputs": [
    {
     "data": {
      "text/plain": [
       "Year\n",
       "2022    236963\n",
       "2023    228420\n",
       "2021    212633\n",
       "2020    194853\n",
       "Name: count, dtype: int64"
      ]
     },
     "execution_count": 467,
     "metadata": {},
     "output_type": "execute_result"
    }
   ],
   "source": [
    "response_df_year_only = response_df_formatted[\"Year\"]\n",
    "response_df_year_only.value_counts()"
   ]
  },
  {
   "cell_type": "code",
   "execution_count": 459,
   "metadata": {},
   "outputs": [
    {
     "data": {
      "text/plain": [
       "Index(['dr_no', 'date_rptd', 'date_occ', 'time_occ', 'area', 'area_name',\n",
       "       'rpt_dist_no', 'part_1_2', 'crm_cd', 'crm_cd_desc', 'vict_age',\n",
       "       'vict_sex', 'vict_descent', 'premis_cd', 'premis_desc', 'status',\n",
       "       'status_desc', 'crm_cd_1', 'crm_cd_2', 'location', 'lat', 'lon',\n",
       "       'mocodes', 'weapon_used_cd', 'weapon_desc', 'cross_street', 'crm_cd_3',\n",
       "       'crm_cd_4', 'Year', 'Ethnicity', 'Age Group'],\n",
       "      dtype='object')"
      ]
     },
     "execution_count": 459,
     "metadata": {},
     "output_type": "execute_result"
    }
   ],
   "source": [
    "response_df_formatted.columns"
   ]
  },
  {
   "cell_type": "code",
   "execution_count": 454,
   "metadata": {},
   "outputs": [
    {
     "name": "stderr",
     "output_type": "stream",
     "text": [
      "c:\\Users\\PC\\anaconda3\\envs\\inclassfeb2024\\Lib\\site-packages\\seaborn\\categorical.py:641: FutureWarning: The default of observed=False is deprecated and will be changed to True in a future version of pandas. Pass observed=False to retain current behavior or observed=True to adopt the future default and silence this warning.\n",
      "  grouped_vals = vals.groupby(grouper)\n",
      "c:\\Users\\PC\\anaconda3\\envs\\inclassfeb2024\\Lib\\site-packages\\seaborn\\categorical.py:641: FutureWarning: The default of observed=False is deprecated and will be changed to True in a future version of pandas. Pass observed=False to retain current behavior or observed=True to adopt the future default and silence this warning.\n",
      "  grouped_vals = vals.groupby(grouper)\n"
     ]
    },
    {
     "data": {
      "image/png": "[encoded data removed]",
      "text/plain": [
       "<Figure size 640x480 with 1 Axes>"
      ]
     },
     "metadata": {},
     "output_type": "display_data"
    }
   ],
   "source": [
    "age_group_plot = sns.barplot(data=combined_age_categorical_df.melt(id_vars=\"Age Group\",value_name=\"Percent of Crimes as Victim\",var_name=\"COVID Response\"),\n",
    "x=\"Age Group\",y=\"Percent of Crimes as Victim\",hue=\"COVID Response\")\n",
    "plt.xticks(rotation=90)\n",
    "plt.legend(title=\"Year\", fontsize=7, title_fontsize=8)\n",
    "age_group_plot.set_title(\"Victim Age Group by COVID Response\")\n",
    "age_group_plot.yaxis.set_major_formatter(mtick.PercentFormatter())"
   ]
  },
  {
   "cell_type": "code",
   "execution_count": 408,
   "metadata": {},
   "outputs": [],
   "source": [
    "crime_by_vic_age = validated_age_desc_data[[\"Age Group\",\"crm_cd_desc\",\"Year\"]]"
   ]
  },
  {
   "cell_type": "code",
   "execution_count": 409,
   "metadata": {},
   "outputs": [],
   "source": [
    "crime_by_vic_minor = crime_by_vic_age.loc[crime_by_vic_age[\"Age Group\"] == \"Minor\"]\n",
    "crime_by_vic_young_adult = crime_by_vic_age.loc[crime_by_vic_age[\"Age Group\"] == \"Young Adult\"]\n",
    "crime_by_vic_adult = crime_by_vic_age.loc[crime_by_vic_age[\"Age Group\"] == \"Adult\"]\n",
    "crime_by_vic_senior = crime_by_vic_age.loc[crime_by_vic_age[\"Age Group\"] == \"Senior\"]\n",
    "crime_by_vic_elderly = crime_by_vic_age.loc[crime_by_vic_age[\"Age Group\"] == \"Elderly\"]"
   ]
  },
  {
   "cell_type": "code",
   "execution_count": 410,
   "metadata": {},
   "outputs": [
    {
     "name": "stdout",
     "output_type": "stream",
     "text": [
      "103\n",
      "99\n"
     ]
    },
    {
     "data": {
      "text/plain": [
       "array(['SODOMY/SEXUAL CONTACT B/W PENIS OF ONE PERS TO ANUS OTH',\n",
       "       'THEFT OF IDENTITY', 'THEFT PLAIN - PETTY ($950 & UNDER)',\n",
       "       'BURGLARY FROM VEHICLE', 'LETTERS, LEWD  -  TELEPHONE CALLS, LEWD',\n",
       "       'ORAL COPULATION', 'UNLAWFUL SEX', 'RAPE, FORCIBLE', 'ASSAULT',\n",
       "       'CHILD ANNOYING (17YRS & UNDER)', 'BATTERY WITH SEXUAL CONTACT',\n",
       "       'SEXUAL PENETRATION W/FOREIGN OBJECT', 'DISTURBING THE PEACE',\n",
       "       'OTHER MISCELLANEOUS CRIME',\n",
       "       'INTIMATE PARTNER - AGGRAVATED ASSAULT', 'CONTRIBUTING',\n",
       "       'CHILD ABUSE (PHYSICAL) - AGGRAVATED ASSAULT',\n",
       "       'UNAUTHORIZED COMPUTER ACCESS', 'LEWD/LASCIVIOUS ACTS WITH CHILD',\n",
       "       'CHILD NEGLECT (SEE 300 W.I.C.)', 'RAPE, ATTEMPTED', 'PEEPING TOM',\n",
       "       'ROBBERY', 'HUMAN TRAFFICKING - COMMERCIAL SEX ACTS',\n",
       "       'THEFT FROM PERSON - ATTEMPT',\n",
       "       'VANDALISM - FELONY ($400 & OVER, ALL CHURCH VANDALISMS)',\n",
       "       'ATTEMPTED ROBBERY', 'INDECENT EXPOSURE',\n",
       "       'KIDNAPPING - GRAND ATTEMPT', 'CONTEMPT OF COURT',\n",
       "       'CRIMINAL THREATS - NO WEAPON DISPLAYED', 'EXTORTION',\n",
       "       'BRANDISH WEAPON', 'VIOLATION OF COURT ORDER', 'BIKE - STOLEN',\n",
       "       'VIOLATION OF RESTRAINING ORDER', 'ARSON',\n",
       "       'THEFT-GRAND ($950.01 & OVER)EXCPT,GUNS,FOWL,LIVESTK,PROD',\n",
       "       'BUNCO, PETTY THEFT', 'FALSE IMPRISONMENT',\n",
       "       'THEFT FROM MOTOR VEHICLE - GRAND ($950.01 AND OVER)', 'BURGLARY',\n",
       "       'BURGLARY, ATTEMPTED', 'PICKPOCKET', 'OTHER ASSAULT',\n",
       "       'THEFT FROM MOTOR VEHICLE - PETTY ($950 & UNDER)',\n",
       "       'VEHICLE - STOLEN', 'VANDALISM - MISDEAMEANOR ($399 OR UNDER)',\n",
       "       'SHOTS FIRED AT MOVING VEHICLE, TRAIN OR AIRCRAFT', 'KIDNAPPING',\n",
       "       'LEWD CONDUCT', 'THEFT, PERSON', 'BUNCO, GRAND THEFT',\n",
       "       'SHOTS FIRED AT INHABITED DWELLING', 'CRIMINAL HOMICIDE',\n",
       "       'CHILD PORNOGRAPHY', 'HUMAN TRAFFICKING - INVOLUNTARY SERVITUDE',\n",
       "       'DOCUMENT FORGERY / STOLEN FELONY',\n",
       "       'THREATENING PHONE CALLS/LETTERS',\n",
       "       'BURGLARY FROM VEHICLE, ATTEMPTED',\n",
       "       'VIOLATION OF TEMPORARY RESTRAINING ORDER',\n",
       "       'ASSAULT WITH DEADLY WEAPON ON POLICE OFFICER', 'CHILD STEALING',\n",
       "       'PIMPING', 'TRESPASSING', 'BOMB SCARE', 'STALKING',\n",
       "       'BUNCO, ATTEMPT',\n",
       "       'VEHICLE, STOLEN - OTHER (MOTORIZED SCOOTERS, BIKES, ETC)',\n",
       "       'RECKLESS DRIVING', 'PURSE SNATCHING',\n",
       "       'THROWING OBJECT AT MOVING VEHICLE', 'DISRUPT SCHOOL',\n",
       "       'THEFT PLAIN - ATTEMPT',\n",
       "       'SEX OFFENDER REGISTRANT OUT OF COMPLIANCE', 'COUNTERFEIT',\n",
       "       'THEFT FROM MOTOR VEHICLE - ATTEMPT', 'PROWLER', 'PANDERING',\n",
       "       'THEFT, COIN MACHINE - PETTY ($950 & UNDER)',\n",
       "       'SHOPLIFTING - PETTY THEFT ($950 & UNDER)',\n",
       "       'SHOPLIFTING - ATTEMPT', 'CHILD ABANDONMENT',\n",
       "       'INCEST (SEXUAL ACTS BETWEEN BLOOD RELATIVES)',\n",
       "       'DRUGS, TO A MINOR', 'FALSE POLICE REPORT', 'FAILURE TO YIELD',\n",
       "       'DISCHARGE FIREARMS/SHOTS FIRED',\n",
       "       'SHOPLIFTING-GRAND THEFT ($950.01 & OVER)',\n",
       "       'DRIVING WITHOUT OWNER CONSENT (DWOC)', 'VEHICLE - ATTEMPT STOLEN',\n",
       "       'RESISTING ARREST', 'CONSPIRACY', 'BATTERY POLICE (SIMPLE)',\n",
       "       'DOCUMENT WORTHLESS ($200.01 & OVER)', 'CRUELTY TO ANIMALS',\n",
       "       'CREDIT CARDS, FRAUD USE ($950.01 & OVER)', 'BIGAMY',\n",
       "       'INCITING A RIOT'], dtype=object)"
      ]
     },
     "execution_count": 410,
     "metadata": {},
     "output_type": "execute_result"
    }
   ],
   "source": [
    "##Cleaning assault data for minors - they divide children under 13\n",
    "\n",
    "#creating a new dataframe for the chart. As is multiple types of assault are showing up in the graph - relevant as they are different types of assault\n",
    "#but uninteresting presentation. Also removing \"Crime Against Child\" as it is vague when defining crime type against children\n",
    "#Shortening Unlawful Sex for readability\n",
    "crime_by_vic_minor_chart_view = crime_by_vic_minor.copy()\n",
    "print(len(crime_by_vic_minor_chart_view[\"crm_cd_desc\"].unique()))\n",
    "crime_by_vic_minor_chart_view[\"crm_cd_desc\"].replace({\"CHILD ABUSE (PHYSICAL) - SIMPLE ASSAULT\":\"ASSAULT\",\n",
    "\"ASSAULT WITH DEADLY WEAPON, AGGRAVATED ASSAULT\":\"ASSAULT\",\"BATTERY - SIMPLE ASSAULT\":\"ASSAULT\",\n",
    "\"INTIMATE PARTNER - SIMPLE ASSAULT\":\"ASSAULT\",\"SEX,UNLAWFUL(INC MUTUAL CONSENT, PENETRATION W/ FRGN OBJ\": \"UNLAWFUL SEX\"},inplace=True)\n",
    "crime_by_vic_minor_chart_view = crime_by_vic_minor_chart_view.loc[\n",
    "    crime_by_vic_minor_chart_view[\"crm_cd_desc\"]!= \"CRM AGNST CHLD (13 OR UNDER) (14-15 & SUSP 10 YRS OLDER)\"]\n",
    "print(len(crime_by_vic_minor_chart_view[\"crm_cd_desc\"].unique()))\n",
    "crime_by_vic_minor_chart_view[\"crm_cd_desc\"].unique()\n",
    "##Remove \"CRM AGAINST CHILD\", \"CHILD ABUSE (PHYSICAL), \"ASSAULT WITH DEADLY WEAPON, AGGRAVATED ASSAULT"
   ]
  },
  {
   "cell_type": "code",
   "execution_count": 411,
   "metadata": {},
   "outputs": [],
   "source": [
    "minor_as_vic_crime_type = crime_by_vic_minor_chart_view[\"crm_cd_desc\"].value_counts()\n",
    "minor_as_vic_crime_type.rename(\"Crimes Against Minors\")\n",
    "minor_as_vic_crime_type.sort_values(ascending=False)\n",
    "top_crimes_minor_as_vic = minor_as_vic_crime_type.head(5)"
   ]
  },
  {
   "cell_type": "code",
   "execution_count": 412,
   "metadata": {},
   "outputs": [
    {
     "data": {
      "text/plain": [
       "<Axes: xlabel='crm_cd_desc'>"
      ]
     },
     "execution_count": 412,
     "metadata": {},
     "output_type": "execute_result"
    },
    {
     "data": {
      "image/png": "[encoded data removed]",
      "text/plain": [
       "<Figure size 640x480 with 1 Axes>"
      ]
     },
     "metadata": {},
     "output_type": "display_data"
    }
   ],
   "source": [
    "top_crimes_minor_as_vic.plot(kind='bar', stacked=True)"
   ]
  },
  {
   "cell_type": "code",
   "execution_count": 413,
   "metadata": {},
   "outputs": [
    {
     "data": {
      "text/plain": [
       "<Axes: ylabel='count'>"
      ]
     },
     "execution_count": 413,
     "metadata": {},
     "output_type": "execute_result"
    },
    {
     "data": {
      "image/png": "[encoded data removed]",
      "text/plain": [
       "<Figure size 640x480 with 1 Axes>"
      ]
     },
     "metadata": {},
     "output_type": "display_data"
    }
   ],
   "source": [
    "top_crimes_minor_as_vic.plot(kind='pie')"
   ]
  },
  {
   "cell_type": "code",
   "execution_count": 414,
   "metadata": {},
   "outputs": [],
   "source": [
    "senior_as_vic_crime_type = crime_by_vic_senior[\"crm_cd_desc\"].value_counts()\n",
    "senior_as_vic_crime_type.rename(\"Crimes Against Seniors\")\n",
    "senior_as_vic_crime_type.sort_values(ascending=False)\n",
    "top_crimes_senior_as_vic = senior_as_vic_crime_type.head(5)\n"
   ]
  },
  {
   "cell_type": "code",
   "execution_count": 415,
   "metadata": {},
   "outputs": [
    {
     "data": {
      "text/plain": [
       "<Axes: xlabel='crm_cd_desc'>"
      ]
     },
     "execution_count": 415,
     "metadata": {},
     "output_type": "execute_result"
    },
    {
     "data": {
      "image/png": "[encoded data removed]",
      "text/plain": [
       "<Figure size 640x480 with 1 Axes>"
      ]
     },
     "metadata": {},
     "output_type": "display_data"
    }
   ],
   "source": [
    "top_crimes_senior_as_vic.plot(kind='bar', stacked=True)"
   ]
  },
  {
   "cell_type": "code",
   "execution_count": 416,
   "metadata": {},
   "outputs": [
    {
     "data": {
      "text/plain": [
       "<Axes: ylabel='count'>"
      ]
     },
     "execution_count": 416,
     "metadata": {},
     "output_type": "execute_result"
    },
    {
     "data": {
      "image/png": "[encoded data removed]",
      "text/plain": [
       "<Figure size 640x480 with 1 Axes>"
      ]
     },
     "metadata": {},
     "output_type": "display_data"
    }
   ],
   "source": [
    "top_crimes_senior_as_vic.plot(kind='pie')"
   ]
  },
  {
   "cell_type": "code",
   "execution_count": 417,
   "metadata": {},
   "outputs": [],
   "source": [
    "elderly_as_vic_crime_type = crime_by_vic_elderly[\"crm_cd_desc\"].value_counts()\n",
    "elderly_as_vic_crime_type.rename(\"Crimes Against Elderly\")\n",
    "elderly_as_vic_crime_type.sort_values(ascending=False)\n",
    "top_crimes_elderly_as_vic = elderly_as_vic_crime_type.head(5)"
   ]
  },
  {
   "cell_type": "code",
   "execution_count": 418,
   "metadata": {},
   "outputs": [
    {
     "data": {
      "text/plain": [
       "<Axes: xlabel='crm_cd_desc'>"
      ]
     },
     "execution_count": 418,
     "metadata": {},
     "output_type": "execute_result"
    },
    {
     "data": {
      "image/png": "[encoded data removed]",
      "text/plain": [
       "<Figure size 640x480 with 1 Axes>"
      ]
     },
     "metadata": {},
     "output_type": "display_data"
    }
   ],
   "source": [
    "top_crimes_elderly_as_vic.plot(kind='bar', stacked=True)"
   ]
  },
  {
   "cell_type": "code",
   "execution_count": 419,
   "metadata": {},
   "outputs": [
    {
     "data": {
      "text/plain": [
       "<Axes: ylabel='count'>"
      ]
     },
     "execution_count": 419,
     "metadata": {},
     "output_type": "execute_result"
    },
    {
     "data": {
      "image/png": "[encoded data removed]",
      "text/plain": [
       "<Figure size 640x480 with 1 Axes>"
      ]
     },
     "metadata": {},
     "output_type": "display_data"
    }
   ],
   "source": [
    "top_crimes_elderly_as_vic.plot(kind='pie')"
   ]
  },
  {
   "cell_type": "code",
   "execution_count": 420,
   "metadata": {},
   "outputs": [
    {
     "name": "stderr",
     "output_type": "stream",
     "text": [
      "C:\\Users\\PC\\AppData\\Local\\Temp\\ipykernel_824\\2055248150.py:9: SettingWithCopyWarning: \n",
      "A value is trying to be set on a copy of a slice from a DataFrame\n",
      "\n",
      "See the caveats in the documentation: https://pandas.pydata.org/pandas-docs/stable/user_guide/indexing.html#returning-a-view-versus-a-copy\n",
      "  domestic_minor_crimes.rename(columns = {\"premis_desc\":\"Location Description\"},inplace=True)\n"
     ]
    }
   ],
   "source": [
    "domestic_crimes = validated_age_desc_data[[\"Age Group\",\"Year\",\"premis_desc\"]].loc[(validated_age_desc_data[\"premis_desc\"] == 'CONDOMINIUM/TOWNHOUSE') | \n",
    "(validated_age_desc_data[\"premis_desc\"] == 'GROUP HOME')| \n",
    "(validated_age_desc_data[\"premis_desc\"] == \"MOBILE HOME/TRAILERS/CONSTRUCTION TRAILERS/RV'S/MOTORHOME\")\n",
    "|(validated_age_desc_data[\"premis_desc\"] == 'FOSTER HOME BOYS OR GIRLS*') | \n",
    "(validated_age_desc_data[\"premis_desc\"] == 'MULTI-UNIT DWELLING (APARTMENT, DUPLEX, ETC)')\n",
    "|(validated_age_desc_data[\"premis_desc\"] == 'SINGLE FAMILY DWELLING')]\n",
    "domestic_minor_crimes = domestic_crimes.loc[domestic_crimes[\"Age Group\"] == \"Minor\"]\n",
    "domestic_minor_crimes.head()\n",
    "domestic_minor_crimes.rename(columns = {\"premis_desc\":\"Location Description\"},inplace=True)\n"
   ]
  },
  {
   "cell_type": "code",
   "execution_count": 421,
   "metadata": {},
   "outputs": [
    {
     "data": {
      "text/plain": [
       "Year\n",
       "2022    3249\n",
       "2020    3205\n",
       "2021    2942\n",
       "2023    2864\n",
       "Name: count, dtype: int64"
      ]
     },
     "execution_count": 421,
     "metadata": {},
     "output_type": "execute_result"
    }
   ],
   "source": [
    "dmc_yearly = domestic_minor_crimes[\"Year\"].value_counts()\n",
    "dmc_yearly\n",
    "\n",
    "#Plot crm_cd_desc CHILD ABUSE & CHILD "
   ]
  },
  {
   "cell_type": "code",
   "execution_count": 422,
   "metadata": {},
   "outputs": [
    {
     "data": {
      "text/plain": [
       "array(['2020', '2021', '2022', '2023'], dtype=object)"
      ]
     },
     "execution_count": 422,
     "metadata": {},
     "output_type": "execute_result"
    }
   ],
   "source": [
    "response_df_formatted[\"Year\"].unique()"
   ]
  },
  {
   "cell_type": "code",
   "execution_count": 423,
   "metadata": {},
   "outputs": [
    {
     "data": {
      "text/plain": [
       "<Axes: xlabel='Year'>"
      ]
     },
     "execution_count": 423,
     "metadata": {},
     "output_type": "execute_result"
    },
    {
     "data": {
      "image/png": "[encoded data removed]",
      "text/plain": [
       "<Figure size 640x480 with 1 Axes>"
      ]
     },
     "metadata": {},
     "output_type": "display_data"
    }
   ],
   "source": [
    "dmc_yearly.plot(kind=\"bar\")"
   ]
  },
  {
   "cell_type": "code",
   "execution_count": 424,
   "metadata": {},
   "outputs": [
    {
     "data": {
      "text/plain": [
       "array(['VEHICLE - STOLEN', 'BIKE - STOLEN',\n",
       "       'SHOPLIFTING-GRAND THEFT ($950.01 & OVER)', 'THEFT OF IDENTITY',\n",
       "       'BATTERY - SIMPLE ASSAULT',\n",
       "       'SODOMY/SEXUAL CONTACT B/W PENIS OF ONE PERS TO ANUS OTH',\n",
       "       'ASSAULT WITH DEADLY WEAPON, AGGRAVATED ASSAULT',\n",
       "       'CRM AGNST CHLD (13 OR UNDER) (14-15 & SUSP 10 YRS OLDER)',\n",
       "       'EMBEZZLEMENT, GRAND THEFT ($950.01 & OVER)',\n",
       "       'BURGLARY FROM VEHICLE',\n",
       "       'THEFT FROM MOTOR VEHICLE - PETTY ($950 & UNDER)',\n",
       "       'CRIMINAL THREATS - NO WEAPON DISPLAYED', 'BURGLARY',\n",
       "       'CONTEMPT OF COURT',\n",
       "       'THEFT-GRAND ($950.01 & OVER)EXCPT,GUNS,FOWL,LIVESTK,PROD',\n",
       "       'THEFT PLAIN - PETTY ($950 & UNDER)',\n",
       "       'INTIMATE PARTNER - SIMPLE ASSAULT', 'THEFT PLAIN - ATTEMPT',\n",
       "       'LETTERS, LEWD  -  TELEPHONE CALLS, LEWD',\n",
       "       'THEFT FROM MOTOR VEHICLE - GRAND ($950.01 AND OVER)',\n",
       "       'OTHER MISCELLANEOUS CRIME', 'ROBBERY', 'BUNCO, GRAND THEFT',\n",
       "       'BATTERY WITH SEXUAL CONTACT',\n",
       "       'INTIMATE PARTNER - AGGRAVATED ASSAULT', 'ORAL COPULATION',\n",
       "       'UNAUTHORIZED COMPUTER ACCESS',\n",
       "       'SEX,UNLAWFUL(INC MUTUAL CONSENT, PENETRATION W/ FRGN OBJ',\n",
       "       'SHOPLIFTING - PETTY THEFT ($950 & UNDER)',\n",
       "       'VANDALISM - FELONY ($400 & OVER, ALL CHURCH VANDALISMS)',\n",
       "       'BRANDISH WEAPON', 'DOCUMENT FORGERY / STOLEN FELONY',\n",
       "       'SEX OFFENDER REGISTRANT OUT OF COMPLIANCE', 'RAPE, FORCIBLE',\n",
       "       'CHILD ANNOYING (17YRS & UNDER)',\n",
       "       'CREDIT CARDS, FRAUD USE ($950.01 & OVER)',\n",
       "       'THREATENING PHONE CALLS/LETTERS',\n",
       "       'SEXUAL PENETRATION W/FOREIGN OBJECT', 'OTHER ASSAULT',\n",
       "       'VANDALISM - MISDEAMEANOR ($399 OR UNDER)', 'PICKPOCKET',\n",
       "       'EXTORTION', 'DISTURBING THE PEACE', 'BUNCO, ATTEMPT',\n",
       "       'PEEPING TOM', 'VIOLATION OF COURT ORDER',\n",
       "       'CHILD ABUSE (PHYSICAL) - SIMPLE ASSAULT',\n",
       "       'VIOLATION OF RESTRAINING ORDER', 'FALSE POLICE REPORT',\n",
       "       'CONTRIBUTING', 'FALSE IMPRISONMENT',\n",
       "       'CHILD ABUSE (PHYSICAL) - AGGRAVATED ASSAULT', 'ATTEMPTED ROBBERY',\n",
       "       'LEWD/LASCIVIOUS ACTS WITH CHILD', 'INDECENT EXPOSURE',\n",
       "       'CHILD NEGLECT (SEE 300 W.I.C.)', 'STALKING',\n",
       "       'DISHONEST EMPLOYEE - GRAND THEFT', 'TRESPASSING',\n",
       "       'BURGLARY, ATTEMPTED', 'RAPE, ATTEMPTED',\n",
       "       'DISCHARGE FIREARMS/SHOTS FIRED', 'ARSON',\n",
       "       'HUMAN TRAFFICKING - COMMERCIAL SEX ACTS',\n",
       "       'VEHICLE - ATTEMPT STOLEN', 'CHILD STEALING',\n",
       "       'FIREARMS RESTRAINING ORDER (FIREARMS RO)', 'RESISTING ARREST',\n",
       "       'BURGLARY FROM VEHICLE, ATTEMPTED', 'THEFT, PERSON',\n",
       "       'BATTERY POLICE (SIMPLE)',\n",
       "       'VEHICLE, STOLEN - OTHER (MOTORIZED SCOOTERS, BIKES, ETC)',\n",
       "       'THEFT FROM PERSON - ATTEMPT', 'FAILURE TO YIELD', 'BOMB SCARE',\n",
       "       'ASSAULT WITH DEADLY WEAPON ON POLICE OFFICER', 'PIMPING',\n",
       "       'BUNCO, PETTY THEFT', 'SHOTS FIRED AT INHABITED DWELLING',\n",
       "       'DEFRAUDING INNKEEPER/THEFT OF SERVICES, $950 & UNDER',\n",
       "       'KIDNAPPING - GRAND ATTEMPT',\n",
       "       'SHOTS FIRED AT MOVING VEHICLE, TRAIN OR AIRCRAFT',\n",
       "       'TILL TAP - GRAND THEFT ($950.01 & OVER)',\n",
       "       'VIOLATION OF TEMPORARY RESTRAINING ORDER',\n",
       "       'THROWING OBJECT AT MOVING VEHICLE',\n",
       "       'DOCUMENT WORTHLESS ($200.01 & OVER)', 'LEWD CONDUCT',\n",
       "       'KIDNAPPING', 'CRIMINAL HOMICIDE', 'PURSE SNATCHING',\n",
       "       'THEFT FROM MOTOR VEHICLE - ATTEMPT',\n",
       "       'DISHONEST EMPLOYEE - PETTY THEFT',\n",
       "       'EMBEZZLEMENT, PETTY THEFT ($950 & UNDER)',\n",
       "       'WEAPONS POSSESSION/BOMBING',\n",
       "       'DRIVING WITHOUT OWNER CONSENT (DWOC)',\n",
       "       'REPLICA FIREARMS(SALE,DISPLAY,MANUFACTURE OR DISTRIBUTE)',\n",
       "       'LYNCHING', 'RECKLESS DRIVING', 'SHOPLIFTING - ATTEMPT',\n",
       "       'CHILD PORNOGRAPHY', 'COUNTERFEIT',\n",
       "       'DEFRAUDING INNKEEPER/THEFT OF SERVICES, OVER $950.01',\n",
       "       'CRUELTY TO ANIMALS', 'BOAT - STOLEN', 'ILLEGAL DUMPING',\n",
       "       'DRUGS, TO A MINOR', 'PANDERING',\n",
       "       'THEFT, COIN MACHINE - PETTY ($950 & UNDER)',\n",
       "       'DOCUMENT WORTHLESS ($200 & UNDER)', 'BATTERY ON A FIREFIGHTER',\n",
       "       'MANSLAUGHTER, NEGLIGENT', 'PETTY THEFT - AUTO REPAIR', 'PROWLER',\n",
       "       'THEFT, COIN MACHINE - ATTEMPT', 'TILL TAP - PETTY ($950 & UNDER)',\n",
       "       'PURSE SNATCHING - ATTEMPT', 'LYNCHING - ATTEMPTED',\n",
       "       'HUMAN TRAFFICKING - INVOLUNTARY SERVITUDE',\n",
       "       'CREDIT CARDS, FRAUD USE ($950 & UNDER', 'BIKE - ATTEMPTED STOLEN',\n",
       "       'GRAND THEFT / AUTO REPAIR', 'CONSPIRACY',\n",
       "       'GRAND THEFT / INSURANCE FRAUD', 'DRUNK ROLL',\n",
       "       'THEFT, COIN MACHINE - GRAND ($950.01 & OVER)', 'DISRUPT SCHOOL',\n",
       "       'CHILD ABANDONMENT', 'TELEPHONE PROPERTY - DAMAGE',\n",
       "       'PICKPOCKET, ATTEMPT',\n",
       "       'BEASTIALITY, CRIME AGAINST NATURE SEXUAL ASSLT WITH ANIM',\n",
       "       'BIGAMY', 'FAILURE TO DISPERSE',\n",
       "       'FIREARMS EMERGENCY PROTECTIVE ORDER (FIREARMS EPO)',\n",
       "       'INCEST (SEXUAL ACTS BETWEEN BLOOD RELATIVES)', 'BRIBERY',\n",
       "       'BLOCKING DOOR INDUCTION CENTER', 'INCITING A RIOT',\n",
       "       'DISHONEST EMPLOYEE ATTEMPTED THEFT', 'TRAIN WRECKING'],\n",
       "      dtype=object)"
      ]
     },
     "execution_count": 424,
     "metadata": {},
     "output_type": "execute_result"
    }
   ],
   "source": [
    "response_df_formatted[\"crm_cd_desc\"].unique()"
   ]
  },
  {
   "cell_type": "code",
   "execution_count": 425,
   "metadata": {},
   "outputs": [],
   "source": [
    "child_crime = validated_age_desc_data.loc[(validated_age_desc_data[\"crm_cd_desc\"] == 'CHILD ABUSE (PHYSICAL) - SIMPLE ASSAULT') | \n",
    "(validated_age_desc_data[\"crm_cd_desc\"] == 'CHILD ABUSE (PHYSICAL) - SIMPLE ASSAULT') | (validated_age_desc_data[\"crm_cd_desc\"] == \n",
    "'CHILD ABUSE (PHYSICAL) - AGGRAVATED ASSAULT')\n",
    "| (validated_age_desc_data[\"crm_cd_desc\"] == 'LEWD/LASCIVIOUS ACTS WITH CHILD') | (validated_age_desc_data[\"crm_cd_desc\"] == 'CHILD NEGLECT (SEE 300 W.I.C.)')]\n",
    "\n",
    "child_crime = child_crime[\"Year\"].value_counts()"
   ]
  },
  {
   "cell_type": "code",
   "execution_count": 426,
   "metadata": {},
   "outputs": [
    {
     "data": {
      "text/plain": [
       "<Axes: xlabel='Year'>"
      ]
     },
     "execution_count": 426,
     "metadata": {},
     "output_type": "execute_result"
    },
    {
     "data": {
      "image/png": "[encoded data removed]",
      "text/plain": [
       "<Figure size 640x480 with 1 Axes>"
      ]
     },
     "metadata": {},
     "output_type": "display_data"
    }
   ],
   "source": [
    "child_crime.plot(kind=\"bar\")"
   ]
  }
 ],
 "metadata": {
  "kernelspec": {
   "display_name": "inclassfeb2024",
   "language": "python",
   "name": "python3"
  },
  "language_info": {
   "codemirror_mode": {
    "name": "ipython",
    "version": 3
   },
   "file_extension": ".py",
   "mimetype": "text/x-python",
   "name": "python",
   "nbconvert_exporter": "python",
   "pygments_lexer": "ipython3",
   "version": "3.11.8"
  }
 },
 "nbformat": 4,
 "nbformat_minor": 2
}
